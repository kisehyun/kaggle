{
  "nbformat": 4,
  "nbformat_minor": 0,
  "metadata": {
    "colab": {
      "name": "tf-df",
      "provenance": []
    },
    "kernelspec": {
      "name": "python3",
      "display_name": "Python 3"
    },
    "language_info": {
      "name": "python"
    }
  },
  "cells": [
    {
      "cell_type": "code",
      "metadata": {
        "colab": {
          "base_uri": "https://localhost:8080/"
        },
        "id": "yeFlVELZyXMv",
        "outputId": "2b537bdb-fe93-4979-e365-db2163b34160"
      },
      "source": [
        "from google.colab import drive\n",
        "drive.mount('/content/gdrive/', force_remount = True)"
      ],
      "execution_count": 1,
      "outputs": [
        {
          "output_type": "stream",
          "name": "stdout",
          "text": [
            "Mounted at /content/gdrive/\n"
          ]
        }
      ]
    },
    {
      "cell_type": "code",
      "metadata": {
        "colab": {
          "base_uri": "https://localhost:8080/"
        },
        "id": "jjpuA4DXy49U",
        "outputId": "ff5879f5-e3a5-4716-9ba4-946a5901ac61"
      },
      "source": [
        "%cd /content/gdrive/My Drive/kaggle/tps_sep/"
      ],
      "execution_count": 1,
      "outputs": [
        {
          "output_type": "stream",
          "name": "stdout",
          "text": [
            "/content/gdrive/My Drive/kaggle/tps_sep\n"
          ]
        }
      ]
    },
    {
      "cell_type": "code",
      "metadata": {
        "id": "5zLIHhpMzD_g"
      },
      "source": [
        "import matplotlib.pyplot as plt\n",
        "%matplotlib inline\n",
        "import pandas as pd\n",
        "import numpy as np\n",
        "import warnings\n",
        "warnings.filterwarnings('ignore')\n",
        "!pip3 install -q tensorflow_decision_forests\n",
        "import tensorflow_decision_forests as tfdf"
      ],
      "execution_count": 21,
      "outputs": []
    },
    {
      "cell_type": "code",
      "metadata": {
        "id": "EWVbFGWPy80F"
      },
      "source": [
        "train = pd.read_csv(\"train.csv\")\n",
        "test = pd.read_csv('test.csv')\n",
        "submission = pd.read_csv('sample_solution.csv')"
      ],
      "execution_count": 25,
      "outputs": []
    },
    {
      "cell_type": "code",
      "metadata": {
        "id": "wwiUOoUWzP_t"
      },
      "source": [
        "train.fillna(0, inplace = True)\n",
        "test.fillna(0, inplace = True)"
      ],
      "execution_count": 26,
      "outputs": []
    },
    {
      "cell_type": "code",
      "metadata": {
        "id": "j5gezC4h0YcO"
      },
      "source": [
        "X = train.iloc[:, 1:-1]\n",
        "y = train['claim']\n",
        "\n",
        "target = test.iloc[:, 1:]"
      ],
      "execution_count": 27,
      "outputs": []
    },
    {
      "cell_type": "code",
      "metadata": {
        "id": "mM8zKprdz7hN"
      },
      "source": [
        "from sklearn.preprocessing import StandardScaler"
      ],
      "execution_count": 6,
      "outputs": []
    },
    {
      "cell_type": "code",
      "metadata": {
        "id": "QQf5pwDuz96K"
      },
      "source": [
        "scaler = StandardScaler()"
      ],
      "execution_count": 28,
      "outputs": []
    },
    {
      "cell_type": "code",
      "metadata": {
        "id": "w0IzUI4Pz_3B"
      },
      "source": [
        "scaled_X = pd.DataFrame(scaler.fit_transform(X), columns = X.columns)\n",
        "scaled_X['claim'] = y\n",
        "scaled_target = pd.DataFrame(scaler.transform(target), columns = X.columns)"
      ],
      "execution_count": 29,
      "outputs": []
    },
    {
      "cell_type": "code",
      "metadata": {
        "id": "7c8q1km-2zMq"
      },
      "source": [
        "from sklearn.model_selection import train_test_split"
      ],
      "execution_count": 9,
      "outputs": []
    },
    {
      "cell_type": "code",
      "metadata": {
        "id": "hck-z05L21Vk"
      },
      "source": [
        "X_train, X_test, y_train, y_test = train_test_split(scaled_X, y, test_size = .2, random_state = 42, stratify = y)"
      ],
      "execution_count": 30,
      "outputs": []
    },
    {
      "cell_type": "code",
      "metadata": {
        "id": "06vL2jAI3Cja"
      },
      "source": [
        "X_train = tfdf.keras.pd_dataframe_to_tf_dataset(X_train, label = 'claim')\n",
        "X_test = tfdf.keras.pd_dataframe_to_tf_dataset(X_test, label = 'claim')"
      ],
      "execution_count": 31,
      "outputs": []
    },
    {
      "cell_type": "code",
      "metadata": {
        "id": "UKwEMuN8zqTS"
      },
      "source": [
        "pred_X = tfdf.keras.pd_dataframe_to_tf_dataset(scaled_target)"
      ],
      "execution_count": 32,
      "outputs": []
    },
    {
      "cell_type": "code",
      "metadata": {
        "colab": {
          "base_uri": "https://localhost:8080/"
        },
        "id": "lbnwQDTyz5y4",
        "outputId": "83316736-5f1b-4bd0-840e-d49943c736ba"
      },
      "source": [
        "model = tfdf.keras.GradientBoostedTreesModel(num_trees = 200)\n",
        "model.fit(X_train)"
      ],
      "execution_count": 33,
      "outputs": [
        {
          "output_type": "stream",
          "name": "stdout",
          "text": [
            "11974/11974 [==============================] - 106s 9ms/step\n"
          ]
        },
        {
          "output_type": "execute_result",
          "data": {
            "text/plain": [
              "<keras.callbacks.History at 0x7f0f1a835390>"
            ]
          },
          "metadata": {},
          "execution_count": 33
        }
      ]
    },
    {
      "cell_type": "code",
      "metadata": {
        "colab": {
          "base_uri": "https://localhost:8080/",
          "height": 279
        },
        "id": "-xIGPScJ79-p",
        "outputId": "1ba69a50-759d-48cd-b2b8-d44788ce746e"
      },
      "source": [
        "logs = model.make_inspector().training_logs()\n",
        "\n",
        "plt.figure(figsize=(12, 4))\n",
        "plt.subplot(1, 2, 1)\n",
        "plt.plot([log.num_trees for log in logs], [log.evaluation.accuracy for log in logs])\n",
        "plt.xlabel(\"Number of trees\")\n",
        "plt.ylabel(\"Accuracy (out-of-bag)\")\n",
        "plt.subplot(1, 2, 2)\n",
        "plt.plot([log.num_trees for log in logs], [log.evaluation.loss for log in logs])\n",
        "plt.xlabel(\"Number of trees\")\n",
        "plt.ylabel(\"Logloss (out-of-bag)\")\n",
        "plt.show()"
      ],
      "execution_count": 34,
      "outputs": [
        {
          "output_type": "display_data",
          "data": {
            "image/png": "[encoded data removed]",
            "text/plain": [
              "<Figure size 864x288 with 2 Axes>"
            ]
          },
          "metadata": {
            "needs_background": "light"
          }
        }
      ]
    },
    {
      "cell_type": "code",
      "metadata": {
        "id": "ISsAB8nR1EEB"
      },
      "source": [
        "val_pred = model.predict(X_test)"
      ],
      "execution_count": 35,
      "outputs": []
    },
    {
      "cell_type": "code",
      "metadata": {
        "id": "7ek6CY6q7orZ"
      },
      "source": [
        "from sklearn.metrics import roc_auc_score"
      ],
      "execution_count": 36,
      "outputs": []
    },
    {
      "cell_type": "code",
      "metadata": {
        "id": "Af30qv1s7ywn"
      },
      "source": [
        "roc_auc = roc_auc_score(y_test, val_pred)"
      ],
      "execution_count": 37,
      "outputs": []
    },
    {
      "cell_type": "code",
      "metadata": {
        "colab": {
          "base_uri": "https://localhost:8080/"
        },
        "id": "N_hJlBdO72Y1",
        "outputId": "b66b615f-650e-41be-9664-6c3629c1e0c5"
      },
      "source": [
        "roc_auc"
      ],
      "execution_count": 38,
      "outputs": [
        {
          "output_type": "execute_result",
          "data": {
            "text/plain": [
              "0.7776733955645782"
            ]
          },
          "metadata": {},
          "execution_count": 38
        }
      ]
    },
    {
      "cell_type": "code",
      "metadata": {
        "id": "Km57SWEu7nSw"
      },
      "source": [
        "submission['claim'] = model.predict(pred_X)"
      ],
      "execution_count": 39,
      "outputs": []
    },
    {
      "cell_type": "code",
      "metadata": {
        "id": "4Jb11lEY8Mrv"
      },
      "source": [
        "submission.to_csv(\"tfdf.csv\", index = False)"
      ],
      "execution_count": 40,
      "outputs": []
    }
  ]
}