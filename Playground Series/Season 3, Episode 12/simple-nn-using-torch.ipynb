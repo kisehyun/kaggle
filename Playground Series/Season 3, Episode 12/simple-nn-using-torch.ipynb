{
 "cells": [
  {
   "cell_type": "code",
   "execution_count": 1,
   "id": "bc4fe5cf",
   "metadata": {
    "_cell_guid": "b1076dfc-b9ad-4769-8c92-a6c4dae69d19",
    "_uuid": "8f2839f25d086af736a60e9eeb907d3b93b6e0e5",
    "execution": {
     "iopub.execute_input": "2023-04-15T02:37:13.164477Z",
     "iopub.status.busy": "2023-04-15T02:37:13.164102Z",
     "iopub.status.idle": "2023-04-15T02:37:13.176010Z",
     "shell.execute_reply": "2023-04-15T02:37:13.175189Z"
    },
    "papermill": {
     "duration": 0.026272,
     "end_time": "2023-04-15T02:37:13.177845",
     "exception": false,
     "start_time": "2023-04-15T02:37:13.151573",
     "status": "completed"
    },
    "tags": []
   },
   "outputs": [
    {
     "name": "stdout",
     "output_type": "stream",
     "text": [
      "/kaggle/input/playground-series-s3e12/sample_submission.csv\n",
      "/kaggle/input/playground-series-s3e12/train.csv\n",
      "/kaggle/input/playground-series-s3e12/test.csv\n"
     ]
    }
   ],
   "source": [
    "# This Python 3 environment comes with many helpful analytics libraries installed\n",
    "# It is defined by the kaggle/python Docker image: https://github.com/kaggle/docker-python\n",
    "# For example, here's several helpful packages to load\n",
    "\n",
    "import numpy as np # linear algebra\n",
    "import pandas as pd # data processing, CSV file I/O (e.g. pd.read_csv)\n",
    "\n",
    "# Input data files are available in the read-only \"../input/\" directory\n",
    "# For example, running this (by clicking run or pressing Shift+Enter) will list all files under the input directory\n",
    "\n",
    "import os\n",
    "for dirname, _, filenames in os.walk('/kaggle/input'):\n",
    "    for filename in filenames:\n",
    "        print(os.path.join(dirname, filename))\n",
    "\n",
    "# You can write up to 20GB to the current directory (/kaggle/working/) that gets preserved as output when you create a version using \"Save & Run All\" \n",
    "# You can also write temporary files to /kaggle/temp/, but they won't be saved outside of the current session"
   ]
  },
  {
   "cell_type": "markdown",
   "id": "d6fa7fbe",
   "metadata": {
    "papermill": {
     "duration": 0.005325,
     "end_time": "2023-04-15T02:37:13.189510",
     "exception": false,
     "start_time": "2023-04-15T02:37:13.184185",
     "status": "completed"
    },
    "tags": []
   },
   "source": [
    "## NN using torch\n",
    "\n",
    "- PB is 0.89333 from this code.\n",
    "- I hope this code helps someone...!"
   ]
  },
  {
   "cell_type": "code",
   "execution_count": 2,
   "id": "329857dc",
   "metadata": {
    "execution": {
     "iopub.execute_input": "2023-04-15T02:37:13.202865Z",
     "iopub.status.busy": "2023-04-15T02:37:13.202202Z",
     "iopub.status.idle": "2023-04-15T02:37:13.226094Z",
     "shell.execute_reply": "2023-04-15T02:37:13.225265Z"
    },
    "papermill": {
     "duration": 0.032939,
     "end_time": "2023-04-15T02:37:13.228195",
     "exception": false,
     "start_time": "2023-04-15T02:37:13.195256",
     "status": "completed"
    },
    "tags": []
   },
   "outputs": [],
   "source": [
    "train = pd.read_csv('/kaggle/input/playground-series-s3e12/train.csv')\n",
    "test = pd.read_csv('/kaggle/input/playground-series-s3e12/test.csv')"
   ]
  },
  {
   "cell_type": "code",
   "execution_count": 3,
   "id": "1c78b83d",
   "metadata": {
    "execution": {
     "iopub.execute_input": "2023-04-15T02:37:13.242209Z",
     "iopub.status.busy": "2023-04-15T02:37:13.241487Z",
     "iopub.status.idle": "2023-04-15T02:37:13.270960Z",
     "shell.execute_reply": "2023-04-15T02:37:13.270110Z"
    },
    "papermill": {
     "duration": 0.038809,
     "end_time": "2023-04-15T02:37:13.273352",
     "exception": false,
     "start_time": "2023-04-15T02:37:13.234543",
     "status": "completed"
    },
    "tags": []
   },
   "outputs": [
    {
     "data": {
      "text/html": [
       "<div>\n",
       "<style scoped>\n",
       "    .dataframe tbody tr th:only-of-type {\n",
       "        vertical-align: middle;\n",
       "    }\n",
       "\n",
       "    .dataframe tbody tr th {\n",
       "        vertical-align: top;\n",
       "    }\n",
       "\n",
       "    .dataframe thead th {\n",
       "        text-align: right;\n",
       "    }\n",
       "</style>\n",
       "<table border=\"1\" class=\"dataframe\">\n",
       "  <thead>\n",
       "    <tr style=\"text-align: right;\">\n",
       "      <th></th>\n",
       "      <th>id</th>\n",
       "      <th>gravity</th>\n",
       "      <th>ph</th>\n",
       "      <th>osmo</th>\n",
       "      <th>cond</th>\n",
       "      <th>urea</th>\n",
       "      <th>calc</th>\n",
       "      <th>target</th>\n",
       "    </tr>\n",
       "  </thead>\n",
       "  <tbody>\n",
       "    <tr>\n",
       "      <th>0</th>\n",
       "      <td>0</td>\n",
       "      <td>1.013</td>\n",
       "      <td>6.19</td>\n",
       "      <td>443</td>\n",
       "      <td>14.8</td>\n",
       "      <td>124</td>\n",
       "      <td>1.45</td>\n",
       "      <td>0</td>\n",
       "    </tr>\n",
       "    <tr>\n",
       "      <th>1</th>\n",
       "      <td>1</td>\n",
       "      <td>1.025</td>\n",
       "      <td>5.40</td>\n",
       "      <td>703</td>\n",
       "      <td>23.6</td>\n",
       "      <td>394</td>\n",
       "      <td>4.18</td>\n",
       "      <td>0</td>\n",
       "    </tr>\n",
       "    <tr>\n",
       "      <th>2</th>\n",
       "      <td>2</td>\n",
       "      <td>1.009</td>\n",
       "      <td>6.13</td>\n",
       "      <td>371</td>\n",
       "      <td>24.5</td>\n",
       "      <td>159</td>\n",
       "      <td>9.04</td>\n",
       "      <td>0</td>\n",
       "    </tr>\n",
       "    <tr>\n",
       "      <th>3</th>\n",
       "      <td>3</td>\n",
       "      <td>1.021</td>\n",
       "      <td>4.91</td>\n",
       "      <td>442</td>\n",
       "      <td>20.8</td>\n",
       "      <td>398</td>\n",
       "      <td>6.63</td>\n",
       "      <td>1</td>\n",
       "    </tr>\n",
       "    <tr>\n",
       "      <th>4</th>\n",
       "      <td>4</td>\n",
       "      <td>1.021</td>\n",
       "      <td>5.53</td>\n",
       "      <td>874</td>\n",
       "      <td>17.8</td>\n",
       "      <td>385</td>\n",
       "      <td>2.21</td>\n",
       "      <td>1</td>\n",
       "    </tr>\n",
       "  </tbody>\n",
       "</table>\n",
       "</div>"
      ],
      "text/plain": [
       "   id  gravity    ph  osmo  cond  urea  calc  target\n",
       "0   0    1.013  6.19   443  14.8   124  1.45       0\n",
       "1   1    1.025  5.40   703  23.6   394  4.18       0\n",
       "2   2    1.009  6.13   371  24.5   159  9.04       0\n",
       "3   3    1.021  4.91   442  20.8   398  6.63       1\n",
       "4   4    1.021  5.53   874  17.8   385  2.21       1"
      ]
     },
     "execution_count": 3,
     "metadata": {},
     "output_type": "execute_result"
    }
   ],
   "source": [
    "train.head()"
   ]
  },
  {
   "cell_type": "code",
   "execution_count": 4,
   "id": "af4f58aa",
   "metadata": {
    "execution": {
     "iopub.execute_input": "2023-04-15T02:37:13.290761Z",
     "iopub.status.busy": "2023-04-15T02:37:13.289847Z",
     "iopub.status.idle": "2023-04-15T02:37:13.304242Z",
     "shell.execute_reply": "2023-04-15T02:37:13.303420Z"
    },
    "papermill": {
     "duration": 0.02534,
     "end_time": "2023-04-15T02:37:13.306140",
     "exception": false,
     "start_time": "2023-04-15T02:37:13.280800",
     "status": "completed"
    },
    "tags": []
   },
   "outputs": [
    {
     "data": {
      "text/html": [
       "<div>\n",
       "<style scoped>\n",
       "    .dataframe tbody tr th:only-of-type {\n",
       "        vertical-align: middle;\n",
       "    }\n",
       "\n",
       "    .dataframe tbody tr th {\n",
       "        vertical-align: top;\n",
       "    }\n",
       "\n",
       "    .dataframe thead th {\n",
       "        text-align: right;\n",
       "    }\n",
       "</style>\n",
       "<table border=\"1\" class=\"dataframe\">\n",
       "  <thead>\n",
       "    <tr style=\"text-align: right;\">\n",
       "      <th></th>\n",
       "      <th>id</th>\n",
       "      <th>gravity</th>\n",
       "      <th>ph</th>\n",
       "      <th>osmo</th>\n",
       "      <th>cond</th>\n",
       "      <th>urea</th>\n",
       "      <th>calc</th>\n",
       "    </tr>\n",
       "  </thead>\n",
       "  <tbody>\n",
       "    <tr>\n",
       "      <th>0</th>\n",
       "      <td>414</td>\n",
       "      <td>1.017</td>\n",
       "      <td>5.24</td>\n",
       "      <td>345</td>\n",
       "      <td>11.5</td>\n",
       "      <td>152</td>\n",
       "      <td>1.16</td>\n",
       "    </tr>\n",
       "    <tr>\n",
       "      <th>1</th>\n",
       "      <td>415</td>\n",
       "      <td>1.020</td>\n",
       "      <td>5.68</td>\n",
       "      <td>874</td>\n",
       "      <td>29.0</td>\n",
       "      <td>385</td>\n",
       "      <td>3.46</td>\n",
       "    </tr>\n",
       "    <tr>\n",
       "      <th>2</th>\n",
       "      <td>416</td>\n",
       "      <td>1.024</td>\n",
       "      <td>5.36</td>\n",
       "      <td>698</td>\n",
       "      <td>19.5</td>\n",
       "      <td>354</td>\n",
       "      <td>13.00</td>\n",
       "    </tr>\n",
       "    <tr>\n",
       "      <th>3</th>\n",
       "      <td>417</td>\n",
       "      <td>1.020</td>\n",
       "      <td>5.33</td>\n",
       "      <td>668</td>\n",
       "      <td>25.3</td>\n",
       "      <td>252</td>\n",
       "      <td>3.46</td>\n",
       "    </tr>\n",
       "    <tr>\n",
       "      <th>4</th>\n",
       "      <td>418</td>\n",
       "      <td>1.011</td>\n",
       "      <td>5.87</td>\n",
       "      <td>567</td>\n",
       "      <td>29.0</td>\n",
       "      <td>457</td>\n",
       "      <td>2.36</td>\n",
       "    </tr>\n",
       "  </tbody>\n",
       "</table>\n",
       "</div>"
      ],
      "text/plain": [
       "    id  gravity    ph  osmo  cond  urea   calc\n",
       "0  414    1.017  5.24   345  11.5   152   1.16\n",
       "1  415    1.020  5.68   874  29.0   385   3.46\n",
       "2  416    1.024  5.36   698  19.5   354  13.00\n",
       "3  417    1.020  5.33   668  25.3   252   3.46\n",
       "4  418    1.011  5.87   567  29.0   457   2.36"
      ]
     },
     "execution_count": 4,
     "metadata": {},
     "output_type": "execute_result"
    }
   ],
   "source": [
    "test.head()"
   ]
  },
  {
   "cell_type": "markdown",
   "id": "c874337d",
   "metadata": {
    "papermill": {
     "duration": 0.006268,
     "end_time": "2023-04-15T02:37:13.318639",
     "exception": false,
     "start_time": "2023-04-15T02:37:13.312371",
     "status": "completed"
    },
    "tags": []
   },
   "source": [
    "### I made a NN Model using torch."
   ]
  },
  {
   "cell_type": "code",
   "execution_count": 5,
   "id": "5638c4d9",
   "metadata": {
    "execution": {
     "iopub.execute_input": "2023-04-15T02:37:13.333129Z",
     "iopub.status.busy": "2023-04-15T02:37:13.332423Z",
     "iopub.status.idle": "2023-04-15T02:37:15.380834Z",
     "shell.execute_reply": "2023-04-15T02:37:15.379863Z"
    },
    "papermill": {
     "duration": 2.058563,
     "end_time": "2023-04-15T02:37:15.383152",
     "exception": false,
     "start_time": "2023-04-15T02:37:13.324589",
     "status": "completed"
    },
    "tags": []
   },
   "outputs": [],
   "source": [
    "import torch\n",
    "import torch.nn as nn\n",
    "import torch.optim as optim\n",
    "from torch.utils.data import TensorDataset, DataLoader, Dataset"
   ]
  },
  {
   "cell_type": "code",
   "execution_count": 6,
   "id": "c7629b39",
   "metadata": {
    "execution": {
     "iopub.execute_input": "2023-04-15T02:37:15.396829Z",
     "iopub.status.busy": "2023-04-15T02:37:15.396368Z",
     "iopub.status.idle": "2023-04-15T02:37:15.400934Z",
     "shell.execute_reply": "2023-04-15T02:37:15.400040Z"
    },
    "papermill": {
     "duration": 0.013867,
     "end_time": "2023-04-15T02:37:15.403144",
     "exception": false,
     "start_time": "2023-04-15T02:37:15.389277",
     "status": "completed"
    },
    "tags": []
   },
   "outputs": [],
   "source": [
    "features = train.columns[1:-1].tolist()"
   ]
  },
  {
   "cell_type": "markdown",
   "id": "583f9c6e",
   "metadata": {
    "papermill": {
     "duration": 0.005587,
     "end_time": "2023-04-15T02:37:15.414950",
     "exception": false,
     "start_time": "2023-04-15T02:37:15.409363",
     "status": "completed"
    },
    "tags": []
   },
   "source": [
    "### I only add one feature \"coefficient of variation\".\n",
    "\n",
    "- It is used to compare data with different units of measurement.\n",
    "- In other words, it is not enough to calculate the spread such as range or variance, so the relative spread should be compared.\n",
    "- The larger the value of the coefficient of variation, the larger the relative difference.\n",
    "- formula : std / mean"
   ]
  },
  {
   "cell_type": "code",
   "execution_count": 7,
   "id": "31693640",
   "metadata": {
    "execution": {
     "iopub.execute_input": "2023-04-15T02:37:15.428477Z",
     "iopub.status.busy": "2023-04-15T02:37:15.427666Z",
     "iopub.status.idle": "2023-04-15T02:37:15.443035Z",
     "shell.execute_reply": "2023-04-15T02:37:15.442036Z"
    },
    "papermill": {
     "duration": 0.025052,
     "end_time": "2023-04-15T02:37:15.445751",
     "exception": false,
     "start_time": "2023-04-15T02:37:15.420699",
     "status": "completed"
    },
    "tags": []
   },
   "outputs": [],
   "source": [
    "train['feature_cv'] = train[features].std(axis = 1) / train[features].mean(axis = 1)\n",
    "test['feature_cv'] = test[features].std(axis = 1) / test[features].mean(axis = 1)"
   ]
  },
  {
   "cell_type": "code",
   "execution_count": 8,
   "id": "fa701de8",
   "metadata": {
    "execution": {
     "iopub.execute_input": "2023-04-15T02:37:15.459572Z",
     "iopub.status.busy": "2023-04-15T02:37:15.459293Z",
     "iopub.status.idle": "2023-04-15T02:37:16.399165Z",
     "shell.execute_reply": "2023-04-15T02:37:16.398158Z"
    },
    "papermill": {
     "duration": 0.949527,
     "end_time": "2023-04-15T02:37:16.401755",
     "exception": false,
     "start_time": "2023-04-15T02:37:15.452228",
     "status": "completed"
    },
    "tags": []
   },
   "outputs": [],
   "source": [
    "from sklearn.model_selection import StratifiedKFold\n",
    "from sklearn.metrics import auc, roc_curve\n",
    "from sklearn.preprocessing import MinMaxScaler"
   ]
  },
  {
   "cell_type": "markdown",
   "id": "b21753c9",
   "metadata": {
    "papermill": {
     "duration": 0.005684,
     "end_time": "2023-04-15T02:37:16.414540",
     "exception": false,
     "start_time": "2023-04-15T02:37:16.408856",
     "status": "completed"
    },
    "tags": []
   },
   "source": [
    "### Then, I used MinMaxScaler for scaling data."
   ]
  },
  {
   "cell_type": "code",
   "execution_count": 9,
   "id": "08a21219",
   "metadata": {
    "execution": {
     "iopub.execute_input": "2023-04-15T02:37:16.427838Z",
     "iopub.status.busy": "2023-04-15T02:37:16.427483Z",
     "iopub.status.idle": "2023-04-15T02:37:16.431579Z",
     "shell.execute_reply": "2023-04-15T02:37:16.430531Z"
    },
    "papermill": {
     "duration": 0.013539,
     "end_time": "2023-04-15T02:37:16.433895",
     "exception": false,
     "start_time": "2023-04-15T02:37:16.420356",
     "status": "completed"
    },
    "tags": []
   },
   "outputs": [],
   "source": [
    "mms = MinMaxScaler()"
   ]
  },
  {
   "cell_type": "markdown",
   "id": "77444bcf",
   "metadata": {
    "papermill": {
     "duration": 0.005555,
     "end_time": "2023-04-15T02:37:16.445376",
     "exception": false,
     "start_time": "2023-04-15T02:37:16.439821",
     "status": "completed"
    },
    "tags": []
   },
   "source": [
    "### This task is classification, so I used StratifiedKFold."
   ]
  },
  {
   "cell_type": "code",
   "execution_count": 10,
   "id": "aba4b91e",
   "metadata": {
    "execution": {
     "iopub.execute_input": "2023-04-15T02:37:16.458921Z",
     "iopub.status.busy": "2023-04-15T02:37:16.457963Z",
     "iopub.status.idle": "2023-04-15T02:37:16.463276Z",
     "shell.execute_reply": "2023-04-15T02:37:16.462520Z"
    },
    "papermill": {
     "duration": 0.01385,
     "end_time": "2023-04-15T02:37:16.464911",
     "exception": false,
     "start_time": "2023-04-15T02:37:16.451061",
     "status": "completed"
    },
    "tags": []
   },
   "outputs": [],
   "source": [
    "skf = StratifiedKFold(n_splits = 5, random_state = 42, shuffle = True)"
   ]
  },
  {
   "cell_type": "code",
   "execution_count": 11,
   "id": "b34d8280",
   "metadata": {
    "execution": {
     "iopub.execute_input": "2023-04-15T02:37:16.478732Z",
     "iopub.status.busy": "2023-04-15T02:37:16.478182Z",
     "iopub.status.idle": "2023-04-15T02:37:16.483565Z",
     "shell.execute_reply": "2023-04-15T02:37:16.482904Z"
    },
    "papermill": {
     "duration": 0.01422,
     "end_time": "2023-04-15T02:37:16.485227",
     "exception": false,
     "start_time": "2023-04-15T02:37:16.471007",
     "status": "completed"
    },
    "tags": []
   },
   "outputs": [],
   "source": [
    "X = train.drop(['id', 'target'], axis = 1)\n",
    "target = test[X.columns]"
   ]
  },
  {
   "cell_type": "code",
   "execution_count": 12,
   "id": "f2a8af0e",
   "metadata": {
    "execution": {
     "iopub.execute_input": "2023-04-15T02:37:16.500212Z",
     "iopub.status.busy": "2023-04-15T02:37:16.499640Z",
     "iopub.status.idle": "2023-04-15T02:37:16.510736Z",
     "shell.execute_reply": "2023-04-15T02:37:16.509826Z"
    },
    "papermill": {
     "duration": 0.022021,
     "end_time": "2023-04-15T02:37:16.513188",
     "exception": false,
     "start_time": "2023-04-15T02:37:16.491167",
     "status": "completed"
    },
    "tags": []
   },
   "outputs": [],
   "source": [
    "X = mms.fit_transform(X)\n",
    "y = train['target'].values\n",
    "\n",
    "target = mms.transform(target)"
   ]
  },
  {
   "cell_type": "code",
   "execution_count": 13,
   "id": "33d93997",
   "metadata": {
    "execution": {
     "iopub.execute_input": "2023-04-15T02:37:16.528036Z",
     "iopub.status.busy": "2023-04-15T02:37:16.527520Z",
     "iopub.status.idle": "2023-04-15T02:37:16.533648Z",
     "shell.execute_reply": "2023-04-15T02:37:16.533020Z"
    },
    "papermill": {
     "duration": 0.01571,
     "end_time": "2023-04-15T02:37:16.535419",
     "exception": false,
     "start_time": "2023-04-15T02:37:16.519709",
     "status": "completed"
    },
    "tags": []
   },
   "outputs": [],
   "source": [
    "class CustomData(Dataset) :\n",
    "    \n",
    "    def __init__(self, X, Y = None, is_test = None) :\n",
    "        \n",
    "        if is_test == False :\n",
    "            self.features = torch.tensor(X, dtype = torch.float)\n",
    "            self.target = torch.tensor(Y, dtype = torch.float)\n",
    "        else :\n",
    "            self.features = torch.tensor(X, dtype = torch.float)\n",
    "            self.target = torch.zeros(X.shape[0], dtype = torch.float)\n",
    "            \n",
    "    def __len__(self) :\n",
    "        \n",
    "        return len(self.features)\n",
    "    \n",
    "    def __getitem__(self, idx) :\n",
    "        \n",
    "        features = self.features[idx]\n",
    "        target = self.target[idx]\n",
    "        \n",
    "        return features, target"
   ]
  },
  {
   "cell_type": "markdown",
   "id": "4bc74837",
   "metadata": {
    "papermill": {
     "duration": 0.005622,
     "end_time": "2023-04-15T02:37:16.547368",
     "exception": false,
     "start_time": "2023-04-15T02:37:16.541746",
     "status": "completed"
    },
    "tags": []
   },
   "source": [
    "## Network"
   ]
  },
  {
   "cell_type": "code",
   "execution_count": 14,
   "id": "84505a47",
   "metadata": {
    "execution": {
     "iopub.execute_input": "2023-04-15T02:37:16.561211Z",
     "iopub.status.busy": "2023-04-15T02:37:16.560374Z",
     "iopub.status.idle": "2023-04-15T02:37:16.566889Z",
     "shell.execute_reply": "2023-04-15T02:37:16.566246Z"
    },
    "papermill": {
     "duration": 0.015522,
     "end_time": "2023-04-15T02:37:16.568838",
     "exception": false,
     "start_time": "2023-04-15T02:37:16.553316",
     "status": "completed"
    },
    "tags": []
   },
   "outputs": [],
   "source": [
    "class NN(nn.Module) :\n",
    "    \n",
    "    def __init__(self) :\n",
    "        \n",
    "        super(NN, self).__init__()\n",
    "        self.classifier = nn.Sequential(\n",
    "                                        nn.Linear(7, 16),\n",
    "                                        nn.LeakyReLU(),\n",
    "                                        nn.Linear(16, 8),\n",
    "                                        nn.LeakyReLU(),\n",
    "                                        nn.Linear(8, 1),\n",
    "                                        nn.Sigmoid()\n",
    "                                        )\n",
    "        \n",
    "    def forward(self, x) :\n",
    "        \n",
    "        x = self.classifier(x)\n",
    "        \n",
    "        return x"
   ]
  },
  {
   "cell_type": "code",
   "execution_count": 15,
   "id": "c313c35d",
   "metadata": {
    "execution": {
     "iopub.execute_input": "2023-04-15T02:37:16.582796Z",
     "iopub.status.busy": "2023-04-15T02:37:16.582351Z",
     "iopub.status.idle": "2023-04-15T02:37:16.589916Z",
     "shell.execute_reply": "2023-04-15T02:37:16.589301Z"
    },
    "papermill": {
     "duration": 0.016531,
     "end_time": "2023-04-15T02:37:16.591723",
     "exception": false,
     "start_time": "2023-04-15T02:37:16.575192",
     "status": "completed"
    },
    "tags": []
   },
   "outputs": [],
   "source": [
    "def train_validation(model, optimizer, criterion, num_epochs, tr_dl, val_dl) :\n",
    "    \n",
    "    for epoch in range(num_epochs) :\n",
    "        \n",
    "        model.train()\n",
    "\n",
    "        for xx, yy in tr_dl :\n",
    "\n",
    "            optimizer.zero_grad()\n",
    "\n",
    "            pred = model(xx).reshape(16)\n",
    "\n",
    "            loss = criterion(pred, yy)\n",
    "            loss.backward()\n",
    "\n",
    "            optimizer.step()\n",
    "\n",
    "        model.eval()\n",
    "        val_prob = []\n",
    "        y_actuals = []\n",
    "\n",
    "        with torch.no_grad() :\n",
    "\n",
    "            for xx, yy in val_dl :\n",
    "\n",
    "                pred = model(xx).reshape(len(xx))\n",
    "                y_actuals += yy\n",
    "                val_prob += pred\n",
    "                loss = criterion(pred, yy)\n",
    "\n",
    "        y_actuals = [v.item() for v in y_actuals]\n",
    "        val_prob = [p.item() for p in val_prob]\n",
    "        \n",
    "        fpr, tpr, threshold = roc_curve(y_actuals, val_prob)\n",
    "        epoch_auc = auc(fpr, tpr)\n",
    "        print(f'{epoch + 1} Epoch val auc : {epoch_auc}')\n",
    "        \n",
    "    return model"
   ]
  },
  {
   "cell_type": "code",
   "execution_count": 16,
   "id": "3ac42a14",
   "metadata": {
    "execution": {
     "iopub.execute_input": "2023-04-15T02:37:16.605462Z",
     "iopub.status.busy": "2023-04-15T02:37:16.604427Z",
     "iopub.status.idle": "2023-04-15T02:37:16.610788Z",
     "shell.execute_reply": "2023-04-15T02:37:16.609876Z"
    },
    "papermill": {
     "duration": 0.014762,
     "end_time": "2023-04-15T02:37:16.612546",
     "exception": false,
     "start_time": "2023-04-15T02:37:16.597784",
     "status": "completed"
    },
    "tags": []
   },
   "outputs": [],
   "source": [
    "def get_test_prediction(te_dl, model, n) :\n",
    "    \n",
    "    test_prediction = []\n",
    "    model.eval()\n",
    "    with torch.no_grad() :\n",
    "        \n",
    "        for xx, yy in te_dl :\n",
    "\n",
    "            pred = model(xx)\n",
    "            test_prediction += pred\n",
    "            \n",
    "    test_prediction = torch.tensor([p.item() / n for p in test_prediction]).reshape(276, 1)\n",
    "    \n",
    "    return test_prediction"
   ]
  },
  {
   "cell_type": "code",
   "execution_count": 17,
   "id": "918b94c8",
   "metadata": {
    "execution": {
     "iopub.execute_input": "2023-04-15T02:37:16.626018Z",
     "iopub.status.busy": "2023-04-15T02:37:16.625491Z",
     "iopub.status.idle": "2023-04-15T02:37:16.642858Z",
     "shell.execute_reply": "2023-04-15T02:37:16.641873Z"
    },
    "papermill": {
     "duration": 0.026796,
     "end_time": "2023-04-15T02:37:16.645112",
     "exception": false,
     "start_time": "2023-04-15T02:37:16.618316",
     "status": "completed"
    },
    "tags": []
   },
   "outputs": [],
   "source": [
    "nn_pred = torch.zeros(test.shape[0], 1)"
   ]
  },
  {
   "cell_type": "code",
   "execution_count": 18,
   "id": "17826229",
   "metadata": {
    "execution": {
     "iopub.execute_input": "2023-04-15T02:37:16.658490Z",
     "iopub.status.busy": "2023-04-15T02:37:16.658185Z",
     "iopub.status.idle": "2023-04-15T02:37:17.709352Z",
     "shell.execute_reply": "2023-04-15T02:37:17.707882Z"
    },
    "papermill": {
     "duration": 1.060649,
     "end_time": "2023-04-15T02:37:17.711869",
     "exception": false,
     "start_time": "2023-04-15T02:37:16.651220",
     "status": "completed"
    },
    "tags": []
   },
   "outputs": [
    {
     "name": "stdout",
     "output_type": "stream",
     "text": [
      "1 Fold...!\n",
      "1 Epoch val auc : 0.7555816686251469\n",
      "2 Epoch val auc : 0.7485311398354877\n",
      "3 Epoch val auc : 0.7420681551116334\n",
      "4 Epoch val auc : 0.7367802585193889\n",
      "5 Epoch val auc : 0.7332549941245593\n",
      "6 Epoch val auc : 0.7320799059929495\n",
      "7 Epoch val auc : 0.7291421856639247\n",
      "8 Epoch val auc : 0.7220916568742656\n",
      "9 Epoch val auc : 0.7232667450058754\n",
      "10 Epoch val auc : 0.7220916568742656\n",
      "\n",
      "\n",
      "2 Fold...!\n",
      "1 Epoch val auc : 0.5487661574618097\n",
      "2 Epoch val auc : 0.6609870740305523\n",
      "3 Epoch val auc : 0.7379553466509988\n",
      "4 Epoch val auc : 0.7608695652173912\n",
      "5 Epoch val auc : 0.7749706227967099\n",
      "6 Epoch val auc : 0.7679200940070506\n",
      "7 Epoch val auc : 0.7702702702702704\n",
      "8 Epoch val auc : 0.7720329024676851\n",
      "9 Epoch val auc : 0.7720329024676851\n",
      "10 Epoch val auc : 0.7696827262044653\n",
      "\n",
      "\n",
      "3 Fold...!\n",
      "1 Epoch val auc : 0.5299647473560517\n",
      "2 Epoch val auc : 0.5564042303172738\n",
      "3 Epoch val auc : 0.5669800235017626\n",
      "4 Epoch val auc : 0.582256169212691\n",
      "5 Epoch val auc : 0.6063454759106933\n",
      "6 Epoch val auc : 0.6263219741480611\n",
      "7 Epoch val auc : 0.6445358401880141\n",
      "8 Epoch val auc : 0.6598119858989425\n",
      "9 Epoch val auc : 0.6797884841363102\n",
      "10 Epoch val auc : 0.6827262044653349\n",
      "\n",
      "\n",
      "4 Fold...!\n",
      "1 Epoch val auc : 0.20035252643948295\n",
      "2 Epoch val auc : 0.20505287896592245\n",
      "3 Epoch val auc : 0.2197414806110458\n",
      "4 Epoch val auc : 0.22502937720329022\n",
      "5 Epoch val auc : 0.24559341950646296\n",
      "6 Epoch val auc : 0.28378378378378377\n",
      "7 Epoch val auc : 0.33254994124559345\n",
      "8 Epoch val auc : 0.38190364277320793\n",
      "9 Epoch val auc : 0.46063454759106937\n",
      "10 Epoch val auc : 0.5205640423031728\n",
      "\n",
      "\n",
      "5 Fold...!\n",
      "1 Epoch val auc : 0.34782608695652173\n",
      "2 Epoch val auc : 0.3913043478260869\n",
      "3 Epoch val auc : 0.47403381642512077\n",
      "4 Epoch val auc : 0.5253623188405797\n",
      "5 Epoch val auc : 0.6126207729468599\n",
      "6 Epoch val auc : 0.6865942028985508\n",
      "7 Epoch val auc : 0.7119565217391305\n",
      "8 Epoch val auc : 0.7318840579710145\n",
      "9 Epoch val auc : 0.7493961352657004\n",
      "10 Epoch val auc : 0.7765700483091788\n",
      "\n",
      "\n"
     ]
    }
   ],
   "source": [
    "for i, (tr_idx, val_idx) in enumerate(skf.split(X, y)) :\n",
    "    \n",
    "    tr_x, tr_y = X[tr_idx], y[tr_idx]\n",
    "    val_x, val_y = X[val_idx], y[val_idx]\n",
    "    \n",
    "    tr_data = CustomData(tr_x, tr_y, is_test = False)\n",
    "    val_data = CustomData(val_x, val_y, is_test = False)\n",
    "    te_data = CustomData(target, is_test = True)\n",
    "    \n",
    "    tr_dl = DataLoader(tr_data, batch_size = 16, shuffle = True, drop_last = True)\n",
    "    val_dl = DataLoader(val_data, batch_size = 16, shuffle = False, drop_last = False)\n",
    "    te_dl = DataLoader(te_data, batch_size = 16, shuffle = False, drop_last = False)\n",
    "    \n",
    "    model = NN()\n",
    "    optimizer = optim.Adam(model.parameters(), lr = 0.0003)\n",
    "    criterion = nn.BCELoss()\n",
    "    \n",
    "    print(f'{i + 1} Fold...!')\n",
    "    best_model = train_validation(model, optimizer, criterion, 10, tr_dl, val_dl)\n",
    "    nn_pred += get_test_prediction(te_dl, best_model, skf.n_splits)\n",
    "    print('\\n')"
   ]
  },
  {
   "cell_type": "code",
   "execution_count": 19,
   "id": "9054be95",
   "metadata": {
    "execution": {
     "iopub.execute_input": "2023-04-15T02:37:17.726422Z",
     "iopub.status.busy": "2023-04-15T02:37:17.725404Z",
     "iopub.status.idle": "2023-04-15T02:37:17.734714Z",
     "shell.execute_reply": "2023-04-15T02:37:17.733528Z"
    },
    "papermill": {
     "duration": 0.019111,
     "end_time": "2023-04-15T02:37:17.737444",
     "exception": false,
     "start_time": "2023-04-15T02:37:17.718333",
     "status": "completed"
    },
    "tags": []
   },
   "outputs": [],
   "source": [
    "submission = pd.read_csv('/kaggle/input/playground-series-s3e12/sample_submission.csv')"
   ]
  },
  {
   "cell_type": "code",
   "execution_count": 20,
   "id": "8612073a",
   "metadata": {
    "execution": {
     "iopub.execute_input": "2023-04-15T02:37:17.752024Z",
     "iopub.status.busy": "2023-04-15T02:37:17.751332Z",
     "iopub.status.idle": "2023-04-15T02:37:17.756529Z",
     "shell.execute_reply": "2023-04-15T02:37:17.755484Z"
    },
    "papermill": {
     "duration": 0.014179,
     "end_time": "2023-04-15T02:37:17.758389",
     "exception": false,
     "start_time": "2023-04-15T02:37:17.744210",
     "status": "completed"
    },
    "tags": []
   },
   "outputs": [],
   "source": [
    "submission['target'] = nn_pred"
   ]
  },
  {
   "cell_type": "code",
   "execution_count": 21,
   "id": "b2ad8b2b",
   "metadata": {
    "execution": {
     "iopub.execute_input": "2023-04-15T02:37:17.772370Z",
     "iopub.status.busy": "2023-04-15T02:37:17.772082Z",
     "iopub.status.idle": "2023-04-15T02:37:17.783686Z",
     "shell.execute_reply": "2023-04-15T02:37:17.782832Z"
    },
    "papermill": {
     "duration": 0.020456,
     "end_time": "2023-04-15T02:37:17.785522",
     "exception": false,
     "start_time": "2023-04-15T02:37:17.765066",
     "status": "completed"
    },
    "tags": []
   },
   "outputs": [
    {
     "data": {
      "text/html": [
       "<div>\n",
       "<style scoped>\n",
       "    .dataframe tbody tr th:only-of-type {\n",
       "        vertical-align: middle;\n",
       "    }\n",
       "\n",
       "    .dataframe tbody tr th {\n",
       "        vertical-align: top;\n",
       "    }\n",
       "\n",
       "    .dataframe thead th {\n",
       "        text-align: right;\n",
       "    }\n",
       "</style>\n",
       "<table border=\"1\" class=\"dataframe\">\n",
       "  <thead>\n",
       "    <tr style=\"text-align: right;\">\n",
       "      <th></th>\n",
       "      <th>id</th>\n",
       "      <th>target</th>\n",
       "    </tr>\n",
       "  </thead>\n",
       "  <tbody>\n",
       "    <tr>\n",
       "      <th>0</th>\n",
       "      <td>414</td>\n",
       "      <td>0.457917</td>\n",
       "    </tr>\n",
       "    <tr>\n",
       "      <th>1</th>\n",
       "      <td>415</td>\n",
       "      <td>0.465908</td>\n",
       "    </tr>\n",
       "    <tr>\n",
       "      <th>2</th>\n",
       "      <td>416</td>\n",
       "      <td>0.472823</td>\n",
       "    </tr>\n",
       "    <tr>\n",
       "      <th>3</th>\n",
       "      <td>417</td>\n",
       "      <td>0.465108</td>\n",
       "    </tr>\n",
       "    <tr>\n",
       "      <th>4</th>\n",
       "      <td>418</td>\n",
       "      <td>0.460261</td>\n",
       "    </tr>\n",
       "    <tr>\n",
       "      <th>...</th>\n",
       "      <td>...</td>\n",
       "      <td>...</td>\n",
       "    </tr>\n",
       "    <tr>\n",
       "      <th>271</th>\n",
       "      <td>685</td>\n",
       "      <td>0.469608</td>\n",
       "    </tr>\n",
       "    <tr>\n",
       "      <th>272</th>\n",
       "      <td>686</td>\n",
       "      <td>0.458619</td>\n",
       "    </tr>\n",
       "    <tr>\n",
       "      <th>273</th>\n",
       "      <td>687</td>\n",
       "      <td>0.468014</td>\n",
       "    </tr>\n",
       "    <tr>\n",
       "      <th>274</th>\n",
       "      <td>688</td>\n",
       "      <td>0.461803</td>\n",
       "    </tr>\n",
       "    <tr>\n",
       "      <th>275</th>\n",
       "      <td>689</td>\n",
       "      <td>0.464168</td>\n",
       "    </tr>\n",
       "  </tbody>\n",
       "</table>\n",
       "<p>276 rows × 2 columns</p>\n",
       "</div>"
      ],
      "text/plain": [
       "      id    target\n",
       "0    414  0.457917\n",
       "1    415  0.465908\n",
       "2    416  0.472823\n",
       "3    417  0.465108\n",
       "4    418  0.460261\n",
       "..   ...       ...\n",
       "271  685  0.469608\n",
       "272  686  0.458619\n",
       "273  687  0.468014\n",
       "274  688  0.461803\n",
       "275  689  0.464168\n",
       "\n",
       "[276 rows x 2 columns]"
      ]
     },
     "execution_count": 21,
     "metadata": {},
     "output_type": "execute_result"
    }
   ],
   "source": [
    "submission"
   ]
  }
 ],
 "metadata": {
  "kernelspec": {
   "display_name": "Python 3",
   "language": "python",
   "name": "python3"
  },
  "language_info": {
   "codemirror_mode": {
    "name": "ipython",
    "version": 3
   },
   "file_extension": ".py",
   "mimetype": "text/x-python",
   "name": "python",
   "nbconvert_exporter": "python",
   "pygments_lexer": "ipython3",
   "version": "3.8.8"
  },
  "papermill": {
   "default_parameters": {},
   "duration": 13.967977,
   "end_time": "2023-04-15T02:37:18.713181",
   "environment_variables": {},
   "exception": null,
   "input_path": "__notebook__.ipynb",
   "output_path": "__notebook__.ipynb",
   "parameters": {},
   "start_time": "2023-04-15T02:37:04.745204",
   "version": "2.4.0"
  }
 },
 "nbformat": 4,
 "nbformat_minor": 5
}
