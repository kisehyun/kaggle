{
 "cells": [
  {
   "cell_type": "code",
   "execution_count": 1,
   "id": "046c3578",
   "metadata": {},
   "outputs": [],
   "source": [
    "import pandas as pd\n",
    "import numpy as np\n",
    "\n",
    "import warnings\n",
    "warnings.filterwarnings('ignore')"
   ]
  },
  {
   "cell_type": "code",
   "execution_count": 37,
   "id": "dd928207",
   "metadata": {},
   "outputs": [],
   "source": [
    "train = pd.read_csv('train.csv')\n",
    "test = pd.read_csv('test.csv')"
   ]
  },
  {
   "cell_type": "code",
   "execution_count": 4,
   "id": "bb184536",
   "metadata": {},
   "outputs": [],
   "source": [
    "from catboost import CatBoostClassifier\n",
    "from xgboost import XGBClassifier\n",
    "from lightgbm import LGBMClassifier\n",
    "\n",
    "from sklearn.model_selection import StratifiedKFold\n",
    "from sklearn.metrics import *"
   ]
  },
  {
   "cell_type": "code",
   "execution_count": 5,
   "id": "e6ad836a",
   "metadata": {},
   "outputs": [],
   "source": [
    "X = train.drop(['id', 'Class'], axis = 1)\n",
    "y = train['Class']"
   ]
  },
  {
   "cell_type": "code",
   "execution_count": 6,
   "id": "ca188096",
   "metadata": {},
   "outputs": [],
   "source": [
    "target = test[X.columns]"
   ]
  },
  {
   "cell_type": "code",
   "execution_count": 7,
   "id": "f69e33de",
   "metadata": {},
   "outputs": [],
   "source": [
    "skf = StratifiedKFold(n_splits = 10, random_state = 42, shuffle = True)"
   ]
  },
  {
   "cell_type": "code",
   "execution_count": 8,
   "id": "d053bfd9",
   "metadata": {},
   "outputs": [
    {
     "name": "stdout",
     "output_type": "stream",
     "text": [
      "1 Fold Logloss : 0.025108287304941544\n",
      "2 Fold Logloss : 0.03374692980460994\n",
      "3 Fold Logloss : 0.03013768113374496\n",
      "4 Fold Logloss : 0.032806538165788934\n",
      "5 Fold Logloss : 0.03146096289435348\n",
      "6 Fold Logloss : 0.03067767624684073\n",
      "7 Fold Logloss : 0.0329514485955561\n",
      "8 Fold Logloss : 0.029677344025865058\n",
      "9 Fold Logloss : 0.030984577959498123\n",
      "10 Fold Logloss : 0.033879170261144696\n"
     ]
    }
   ],
   "source": [
    "cb_pred = np.zeros(target.shape[0])\n",
    "for i, (tr_idx, val_idx) in enumerate(skf.split(X, y)) :\n",
    "    \n",
    "    tr_x, tr_y = X.iloc[tr_idx], y.iloc[tr_idx]\n",
    "    val_x, val_y = X.iloc[val_idx], y.iloc[val_idx]\n",
    "    cb = CatBoostClassifier(random_state = 42, max_depth = 6, learning_rate = 0.02, iterations = 10000, use_best_model = True, eval_metric = 'Logloss')\n",
    "    cb.fit(tr_x, tr_y, eval_set = [(tr_x, tr_y), (val_x, val_y)], early_stopping_rounds = 1000, verbose = 0)\n",
    "    \n",
    "    val_pred = cb.predict_proba(val_x)[:, 1]\n",
    "    val_log_loss = log_loss(val_y, val_pred)\n",
    "    print(f'{i + 1} Fold Logloss : {val_log_loss}')\n",
    "    \n",
    "    fold_pred = cb.predict_proba(target)[:, 1] / skf.n_splits\n",
    "    cb_pred += fold_pred"
   ]
  }
 ],
 "metadata": {
  "kernelspec": {
   "display_name": "Python 3",
   "language": "python",
   "name": "python3"
  },
  "language_info": {
   "codemirror_mode": {
    "name": "ipython",
    "version": 3
   },
   "file_extension": ".py",
   "mimetype": "text/x-python",
   "name": "python",
   "nbconvert_exporter": "python",
   "pygments_lexer": "ipython3",
   "version": "3.8.8"
  }
 },
 "nbformat": 4,
 "nbformat_minor": 5
}
