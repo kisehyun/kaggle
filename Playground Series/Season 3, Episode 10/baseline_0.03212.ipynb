{
 "cells": [
  {
   "cell_type": "code",
   "execution_count": 1,
   "id": "742e0eae",
   "metadata": {},
   "outputs": [],
   "source": [
    "import pandas as pd\n",
    "import numpy as np\n",
    "\n",
    "import warnings\n",
    "warnings.filterwarnings('ignore')"
   ]
  },
  {
   "cell_type": "code",
   "execution_count": 4,
   "id": "1091e1fc",
   "metadata": {},
   "outputs": [],
   "source": [
    "train = pd.read_csv('train.csv')\n",
    "test = pd.read_csv('test.csv')"
   ]
  },
  {
   "cell_type": "code",
   "execution_count": 5,
   "id": "05a89091",
   "metadata": {},
   "outputs": [
    {
     "data": {
      "text/plain": [
       "0    106597\n",
       "1     10967\n",
       "Name: Class, dtype: int64"
      ]
     },
     "execution_count": 5,
     "metadata": {},
     "output_type": "execute_result"
    }
   ],
   "source": [
    "train['Class'].value_counts()"
   ]
  },
  {
   "cell_type": "code",
   "execution_count": 6,
   "id": "9b61435f",
   "metadata": {},
   "outputs": [],
   "source": [
    "from catboost import CatBoostClassifier\n",
    "from sklearn.model_selection import StratifiedKFold\n",
    "from sklearn.metrics import log_loss"
   ]
  },
  {
   "cell_type": "code",
   "execution_count": 7,
   "id": "3df33124",
   "metadata": {},
   "outputs": [],
   "source": [
    "X = train.iloc[:, 1:-1]\n",
    "y = train['Class']\n",
    "\n",
    "target = test[X.columns]"
   ]
  },
  {
   "cell_type": "code",
   "execution_count": 8,
   "id": "5122acaa",
   "metadata": {},
   "outputs": [],
   "source": [
    "skf = StratifiedKFold(n_splits = 10, random_state = 42, shuffle = True)"
   ]
  },
  {
   "cell_type": "code",
   "execution_count": 11,
   "id": "dce814e5",
   "metadata": {},
   "outputs": [
    {
     "name": "stdout",
     "output_type": "stream",
     "text": [
      "0:\tlearn: 0.6094959\ttest: 0.6095766\ttest1: 0.6091703\tbest: 0.6091703 (0)\ttotal: 9.64ms\tremaining: 1m 36s\n",
      "Stopped by overfitting detector  (1000 iterations wait)\n",
      "\n",
      "bestTest = 0.02521166259\n",
      "bestIteration = 669\n",
      "\n",
      "Shrink model to first 670 iterations.\n",
      "1 Fold Logloss : 0.0252116625872773\n",
      "0:\tlearn: 0.6083399\ttest: 0.6084154\ttest1: 0.6082458\tbest: 0.6082458 (0)\ttotal: 8.54ms\tremaining: 1m 25s\n",
      "Stopped by overfitting detector  (1000 iterations wait)\n",
      "\n",
      "bestTest = 0.0335825041\n",
      "bestIteration = 367\n",
      "\n",
      "Shrink model to first 368 iterations.\n",
      "2 Fold Logloss : 0.03358250409548504\n",
      "0:\tlearn: 0.6090186\ttest: 0.6091009\ttest1: 0.6090848\tbest: 0.6090848 (0)\ttotal: 9.7ms\tremaining: 1m 36s\n",
      "Stopped by overfitting detector  (1000 iterations wait)\n",
      "\n",
      "bestTest = 0.02996498472\n",
      "bestIteration = 831\n",
      "\n",
      "Shrink model to first 832 iterations.\n",
      "3 Fold Logloss : 0.029964984721138725\n",
      "0:\tlearn: 0.6090170\ttest: 0.6091065\ttest1: 0.6095626\tbest: 0.6095626 (0)\ttotal: 8.83ms\tremaining: 1m 28s\n",
      "2000:\tlearn: 0.0191063\ttest: 0.0191129\ttest1: 0.0332379\tbest: 0.0326977 (1071)\ttotal: 16.9s\tremaining: 1m 7s\n",
      "Stopped by overfitting detector  (1000 iterations wait)\n",
      "\n",
      "bestTest = 0.03269766744\n",
      "bestIteration = 1071\n",
      "\n",
      "Shrink model to first 1072 iterations.\n",
      "4 Fold Logloss : 0.032697667440116436\n",
      "0:\tlearn: 0.6085972\ttest: 0.6086870\ttest1: 0.6085609\tbest: 0.6085609 (0)\ttotal: 9.19ms\tremaining: 1m 31s\n",
      "Stopped by overfitting detector  (1000 iterations wait)\n",
      "\n",
      "bestTest = 0.03157620691\n",
      "bestIteration = 474\n",
      "\n",
      "Shrink model to first 475 iterations.\n",
      "5 Fold Logloss : 0.03157620690710488\n",
      "0:\tlearn: 0.6093202\ttest: 0.6093975\ttest1: 0.6095491\tbest: 0.6095491 (0)\ttotal: 8.18ms\tremaining: 1m 21s\n",
      "Stopped by overfitting detector  (1000 iterations wait)\n",
      "\n",
      "bestTest = 0.03055433829\n",
      "bestIteration = 868\n",
      "\n",
      "Shrink model to first 869 iterations.\n",
      "6 Fold Logloss : 0.03055433828683631\n",
      "0:\tlearn: 0.6094305\ttest: 0.6095143\ttest1: 0.6095538\tbest: 0.6095538 (0)\ttotal: 9.52ms\tremaining: 1m 35s\n",
      "Stopped by overfitting detector  (1000 iterations wait)\n",
      "\n",
      "bestTest = 0.03359648281\n",
      "bestIteration = 898\n",
      "\n",
      "Shrink model to first 899 iterations.\n",
      "7 Fold Logloss : 0.03359648280697064\n",
      "0:\tlearn: 0.6091690\ttest: 0.6092519\ttest1: 0.6092532\tbest: 0.6092532 (0)\ttotal: 8.82ms\tremaining: 1m 28s\n",
      "Stopped by overfitting detector  (1000 iterations wait)\n",
      "\n",
      "bestTest = 0.02934026615\n",
      "bestIteration = 639\n",
      "\n",
      "Shrink model to first 640 iterations.\n",
      "8 Fold Logloss : 0.029340266146822804\n",
      "0:\tlearn: 0.6091390\ttest: 0.6092205\ttest1: 0.6091682\tbest: 0.6091682 (0)\ttotal: 8.59ms\tremaining: 1m 25s\n",
      "2000:\tlearn: 0.0193743\ttest: 0.0193810\ttest1: 0.0314409\tbest: 0.0310381 (1024)\ttotal: 17s\tremaining: 1m 8s\n",
      "Stopped by overfitting detector  (1000 iterations wait)\n",
      "\n",
      "bestTest = 0.03103810296\n",
      "bestIteration = 1024\n",
      "\n",
      "Shrink model to first 1025 iterations.\n",
      "9 Fold Logloss : 0.03103810295983744\n",
      "0:\tlearn: 0.6090837\ttest: 0.6091685\ttest1: 0.6092540\tbest: 0.6092540 (0)\ttotal: 8.49ms\tremaining: 1m 24s\n",
      "Stopped by overfitting detector  (1000 iterations wait)\n",
      "\n",
      "bestTest = 0.03407742318\n",
      "bestIteration = 385\n",
      "\n",
      "Shrink model to first 386 iterations.\n",
      "10 Fold Logloss : 0.03407742317889262\n"
     ]
    }
   ],
   "source": [
    "cb_pred = np.zeros(target.shape[0])\n",
    "for i, (tr_idx, val_idx) in enumerate(skf.split(X, y)) :\n",
    "    \n",
    "    tr_x, tr_y = X.iloc[tr_idx], y.iloc[tr_idx]\n",
    "    val_x, val_y = X.iloc[val_idx], y.iloc[val_idx]\n",
    "    \n",
    "    cb = CatBoostClassifier(random_state = 42, max_depth = 6, learning_rate = 0.03, n_estimators = 10000, use_best_model = True, eval_metric = 'Logloss')\n",
    "    cb.fit(tr_x, tr_y, eval_set = [(tr_x, tr_y), (val_x, val_y)], early_stopping_rounds = 1000, verbose = 2000)\n",
    "    \n",
    "    val_pred = cb.predict_proba(val_x)[:, 1]\n",
    "    val_log_loss = log_loss(val_y, val_pred)\n",
    "    print(f'{i + 1} Fold Logloss : {val_log_loss}')\n",
    "    \n",
    "    fold_pred = cb.predict_proba(target)[:, 1] / skf.n_splits\n",
    "    cb_pred += fold_pred"
   ]
  },
  {
   "cell_type": "code",
   "execution_count": 12,
   "id": "62b64428",
   "metadata": {},
   "outputs": [],
   "source": [
    "submission = pd.read_csv('sample_submission.csv')"
   ]
  },
  {
   "cell_type": "code",
   "execution_count": 13,
   "id": "13e5c7fa",
   "metadata": {},
   "outputs": [],
   "source": [
    "submission['Class'] = cb_pred"
   ]
  },
  {
   "cell_type": "code",
   "execution_count": 15,
   "id": "99032330",
   "metadata": {},
   "outputs": [],
   "source": [
    "submission.to_csv('1st.csv', index = False)"
   ]
  },
  {
   "cell_type": "code",
   "execution_count": null,
   "id": "066b1d03",
   "metadata": {},
   "outputs": [],
   "source": []
  }
 ],
 "metadata": {
  "kernelspec": {
   "display_name": "Python 3 (ipykernel)",
   "language": "python",
   "name": "python3"
  },
  "language_info": {
   "codemirror_mode": {
    "name": "ipython",
    "version": 3
   },
   "file_extension": ".py",
   "mimetype": "text/x-python",
   "name": "python",
   "nbconvert_exporter": "python",
   "pygments_lexer": "ipython3",
   "version": "3.9.7"
  }
 },
 "nbformat": 4,
 "nbformat_minor": 5
}
