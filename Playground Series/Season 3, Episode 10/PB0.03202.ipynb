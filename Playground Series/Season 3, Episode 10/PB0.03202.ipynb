{
 "cells": [
  {
   "cell_type": "code",
   "execution_count": 1,
   "id": "046c3578",
   "metadata": {},
   "outputs": [],
   "source": [
    "import pandas as pd\n",
    "import numpy as np\n",
    "\n",
    "import warnings\n",
    "warnings.filterwarnings('ignore')"
   ]
  },
  {
   "cell_type": "code",
   "execution_count": 2,
   "id": "dd928207",
   "metadata": {},
   "outputs": [],
   "source": [
    "train = pd.read_csv('train.csv')\n",
    "test = pd.read_csv('test.csv')"
   ]
  },
  {
   "cell_type": "code",
   "execution_count": 3,
   "id": "bb184536",
   "metadata": {},
   "outputs": [],
   "source": [
    "from catboost import CatBoostClassifier\n",
    "from xgboost import XGBClassifier\n",
    "from lightgbm import LGBMClassifier\n",
    "\n",
    "from sklearn.model_selection import StratifiedKFold\n",
    "from sklearn.metrics import *"
   ]
  },
  {
   "cell_type": "code",
   "execution_count": 4,
   "id": "e6ad836a",
   "metadata": {},
   "outputs": [],
   "source": [
    "X = train.drop(['id', 'Class'], axis = 1)\n",
    "y = train['Class']"
   ]
  },
  {
   "cell_type": "code",
   "execution_count": 5,
   "id": "ca188096",
   "metadata": {},
   "outputs": [],
   "source": [
    "target = test[X.columns]"
   ]
  },
  {
   "cell_type": "code",
   "execution_count": 6,
   "id": "f69e33de",
   "metadata": {},
   "outputs": [],
   "source": [
    "skf = StratifiedKFold(n_splits = 10, random_state = 42, shuffle = True)"
   ]
  },
  {
   "cell_type": "code",
   "execution_count": 7,
   "id": "d053bfd9",
   "metadata": {},
   "outputs": [
    {
     "name": "stdout",
     "output_type": "stream",
     "text": [
      "1 Fold Logloss : 0.025191101014705012\n",
      "2 Fold Logloss : 0.033656964061488694\n",
      "3 Fold Logloss : 0.03005187043146397\n",
      "4 Fold Logloss : 0.032623589496954784\n",
      "5 Fold Logloss : 0.031446309946702763\n",
      "6 Fold Logloss : 0.03065882032185964\n",
      "7 Fold Logloss : 0.03323976227145605\n",
      "8 Fold Logloss : 0.02951882774562623\n",
      "9 Fold Logloss : 0.030998358570111902\n",
      "10 Fold Logloss : 0.03376151699162498\n",
      "\n",
      "CatBoostClassifier AVG of Logloss is 0.031114712085199402\n"
     ]
    }
   ],
   "source": [
    "### K-Fold Ensemble\n",
    "cb_pred = np.zeros(target.shape[0])\n",
    "cb_score = 0\n",
    "\n",
    "for i, (tr_idx, val_idx) in enumerate(skf.split(X, y)) :\n",
    "    \n",
    "    tr_x, tr_y = X.iloc[tr_idx], y.iloc[tr_idx]\n",
    "    val_x, val_y = X.iloc[val_idx], y.iloc[val_idx]\n",
    "    cb = CatBoostClassifier(random_state = i, max_depth = 5, learning_rate = 0.02, iterations = 10000, use_best_model = True, eval_metric = 'Logloss')\n",
    "    cb.fit(tr_x, tr_y, eval_set = [(tr_x, tr_y), (val_x, val_y)], early_stopping_rounds = 1000, verbose = 0)\n",
    "    \n",
    "    val_pred = cb.predict_proba(val_x)[:, 1]\n",
    "    val_log_loss = log_loss(val_y, val_pred)\n",
    "    cb_score += val_log_loss / skf.n_splits\n",
    "    print(f'{i + 1} Fold Logloss : {val_log_loss}')\n",
    "    \n",
    "    fold_pred = cb.predict_proba(target)[:, 1] / skf.n_splits\n",
    "    cb_pred += fold_pred\n",
    "print(f'\\n{cb.__class__.__name__} AVG of Logloss is {cb_score}')"
   ]
  },
  {
   "cell_type": "code",
   "execution_count": 8,
   "id": "89df3a57",
   "metadata": {},
   "outputs": [],
   "source": [
    "submission = pd.read_csv('sample_submission.csv')"
   ]
  },
  {
   "cell_type": "code",
   "execution_count": 9,
   "id": "c422f26c",
   "metadata": {},
   "outputs": [],
   "source": [
    "submission['Class'] = cb_pred"
   ]
  },
  {
   "cell_type": "code",
   "execution_count": 10,
   "id": "34407723",
   "metadata": {},
   "outputs": [],
   "source": [
    "submission.to_csv('catboost.csv', index = False)"
   ]
  }
 ],
 "metadata": {
  "kernelspec": {
   "display_name": "Python 3",
   "language": "python",
   "name": "python3"
  },
  "language_info": {
   "codemirror_mode": {
    "name": "ipython",
    "version": 3
   },
   "file_extension": ".py",
   "mimetype": "text/x-python",
   "name": "python",
   "nbconvert_exporter": "python",
   "pygments_lexer": "ipython3",
   "version": "3.8.8"
  }
 },
 "nbformat": 4,
 "nbformat_minor": 5
}
