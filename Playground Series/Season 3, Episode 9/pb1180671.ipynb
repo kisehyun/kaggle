{
 "cells": [
  {
   "cell_type": "code",
   "execution_count": 3,
   "metadata": {
    "executionInfo": {
     "elapsed": 2450,
     "status": "ok",
     "timestamp": 1678169081139,
     "user": {
      "displayName": "기세현",
      "userId": "06743460080794396829"
     },
     "user_tz": -540
    },
    "id": "tgsrkrxodK1y"
   },
   "outputs": [],
   "source": [
    "import pandas as pd\n",
    "import numpy as np\n",
    "\n",
    "import warnings\n",
    "warnings.filterwarnings('ignore')\n",
    "\n",
    "from sklearn.model_selection import KFold, StratifiedKFold\n",
    "from sklearn.metrics import mean_squared_error\n",
    "from sklearn.preprocessing import MinMaxScaler, StandardScaler"
   ]
  },
  {
   "cell_type": "code",
   "execution_count": 5,
   "metadata": {
    "executionInfo": {
     "elapsed": 493,
     "status": "ok",
     "timestamp": 1678169090955,
     "user": {
      "displayName": "기세현",
      "userId": "06743460080794396829"
     },
     "user_tz": -540
    },
    "id": "_yn3fCCEnM4b"
   },
   "outputs": [],
   "source": [
    "from catboost import CatBoostRegressor\n",
    "from xgboost import XGBRegressor\n",
    "from lightgbm import LGBMRegressor"
   ]
  },
  {
   "cell_type": "code",
   "execution_count": 75,
   "metadata": {
    "executionInfo": {
     "elapsed": 429,
     "status": "ok",
     "timestamp": 1678171634365,
     "user": {
      "displayName": "기세현",
      "userId": "06743460080794396829"
     },
     "user_tz": -540
    },
    "id": "mxEYDguHdtZz"
   },
   "outputs": [],
   "source": [
    "train = pd.read_csv('train.csv')\n",
    "test = pd.read_csv('test.csv')"
   ]
  },
  {
   "cell_type": "code",
   "execution_count": 76,
   "metadata": {
    "executionInfo": {
     "elapsed": 6,
     "status": "ok",
     "timestamp": 1678171634366,
     "user": {
      "displayName": "기세현",
      "userId": "06743460080794396829"
     },
     "user_tz": -540
    },
    "id": "0nK0H-KQowYv"
   },
   "outputs": [],
   "source": [
    "from sklearn.cluster import KMeans"
   ]
  },
  {
   "cell_type": "code",
   "execution_count": 77,
   "metadata": {
    "executionInfo": {
     "elapsed": 5,
     "status": "ok",
     "timestamp": 1678171634366,
     "user": {
      "displayName": "기세현",
      "userId": "06743460080794396829"
     },
     "user_tz": -540
    },
    "id": "2qq9IuoCozMI"
   },
   "outputs": [],
   "source": [
    "km = KMeans(n_clusters = 8, random_state = 42)"
   ]
  },
  {
   "cell_type": "code",
   "execution_count": 78,
   "metadata": {
    "executionInfo": {
     "elapsed": 526,
     "status": "ok",
     "timestamp": 1678171634888,
     "user": {
      "displayName": "기세현",
      "userId": "06743460080794396829"
     },
     "user_tz": -540
    },
    "id": "KuMTMSAYo1me"
   },
   "outputs": [],
   "source": [
    "train['km_cls'] = km.fit_predict(train.iloc[:, 1:-1])\n",
    "test['km_cls'] = km.predict(test.iloc[:, 1:])"
   ]
  },
  {
   "cell_type": "code",
   "execution_count": 79,
   "metadata": {
    "executionInfo": {
     "elapsed": 6,
     "status": "ok",
     "timestamp": 1678171634888,
     "user": {
      "displayName": "기세현",
      "userId": "06743460080794396829"
     },
     "user_tz": -540
    },
    "id": "x_ZPmESQo8Gh"
   },
   "outputs": [],
   "source": [
    "train['feature_mean'] = train.iloc[:, 1:-2].sum(axis = 1)\n",
    "test['feature_mean'] = test.iloc[:, 1:-1].sum(axis = 1)"
   ]
  },
  {
   "cell_type": "code",
   "execution_count": 80,
   "metadata": {
    "executionInfo": {
     "elapsed": 5,
     "status": "ok",
     "timestamp": 1678171634889,
     "user": {
      "displayName": "기세현",
      "userId": "06743460080794396829"
     },
     "user_tz": -540
    },
    "id": "l5b58-_IpCgT"
   },
   "outputs": [],
   "source": [
    "kf = KFold(n_splits = 10, random_state = 42, shuffle = True)"
   ]
  },
  {
   "cell_type": "code",
   "execution_count": 81,
   "metadata": {
    "executionInfo": {
     "elapsed": 4,
     "status": "ok",
     "timestamp": 1678171634889,
     "user": {
      "displayName": "기세현",
      "userId": "06743460080794396829"
     },
     "user_tz": -540
    },
    "id": "rqHNxBeCpLpU"
   },
   "outputs": [],
   "source": [
    "X = train.drop(['id', 'Strength'], axis = 1)\n",
    "y = train['Strength']\n",
    "target = test[X.columns]"
   ]
  },
  {
   "cell_type": "code",
   "execution_count": 82,
   "metadata": {
    "colab": {
     "base_uri": "https://localhost:8080/"
    },
    "executionInfo": {
     "elapsed": 126966,
     "status": "ok",
     "timestamp": 1678171761852,
     "user": {
      "displayName": "기세현",
      "userId": "06743460080794396829"
     },
     "user_tz": -540
    },
    "id": "P3-1v9xIpHNU",
    "outputId": "7878b31a-8d30-44b4-c790-435b90850f82"
   },
   "outputs": [
    {
     "name": "stdout",
     "output_type": "stream",
     "text": [
      "fold : 1 RMSE of Ensemble : 11.665837062917277\n",
      "fold : 2 RMSE of Ensemble : 11.662083426362718\n",
      "fold : 3 RMSE of Ensemble : 12.332666927656792\n",
      "fold : 4 RMSE of Ensemble : 11.612519173486321\n",
      "fold : 5 RMSE of Ensemble : 12.657017932589646\n",
      "fold : 6 RMSE of Ensemble : 11.689934959475787\n",
      "fold : 7 RMSE of Ensemble : 12.102846280571494\n",
      "fold : 8 RMSE of Ensemble : 11.987116203220538\n",
      "fold : 9 RMSE of Ensemble : 12.63423025761019\n",
      "fold : 10 RMSE of Ensemble : 12.091863052980317\n"
     ]
    }
   ],
   "source": [
    "rmse_ens = []\n",
    "\n",
    "pred_1 = np.zeros(target.shape[0])\n",
    "pred_2 = np.zeros(target.shape[0])\n",
    "pred_3 = np.zeros(target.shape[0])\n",
    "\n",
    "for i, (tr_idx, val_idx) in enumerate(kf.split(X, y)) :\n",
    "    tr_x, tr_y = X.iloc[tr_idx], y.iloc[tr_idx]\n",
    "    val_x, val_y = X.iloc[val_idx], y.iloc[val_idx]\n",
    "    \n",
    "    # XGBoost\n",
    "    model_xgb = XGBRegressor(random_state = 42, max_depth = 4, learning_rate = 0.02, n_estimators = 10000, objective = 'reg:squarederror')\n",
    "    model_xgb.fit(tr_x, tr_y, eval_set = [(val_x, val_y)], early_stopping_rounds = 1000, verbose = False)\n",
    "    val_pred_xgb = model_xgb.predict(val_x)\n",
    "    pred_1 += model_xgb.predict(target) / kf.n_splits\n",
    "    \n",
    "    # CatBoost\n",
    "    model_cat = CatBoostRegressor(random_state = 42, max_depth = 4, learning_rate = 0.02, n_estimators = 10000, use_best_model = True, eval_metric = 'RMSE')\n",
    "    model_cat.fit(tr_x, tr_y, eval_set = [(val_x, val_y)], early_stopping_rounds = 1000, verbose = False) \n",
    "    val_pred_cat = model_cat.predict(val_x)\n",
    "    pred_2 += model_cat.predict(target) / kf.n_splits\n",
    "\n",
    "    # LGBM\n",
    "    model_lgbm = LGBMRegressor(random_state = 42, max_depth = 5, learning_rate = 0.02, n_estimators = 10000, objective = 'rmse')\n",
    "    model_lgbm.fit(tr_x, tr_y, eval_set = [(val_x, val_y)], early_stopping_rounds = 1000, verbose = 0)\n",
    "    val_pred_lgbm = model_lgbm.predict(val_x)\n",
    "    pred_3 += model_lgbm.predict(target) / kf.n_splits\n",
    "\n",
    "    ens_pred = val_pred_xgb * 0.01 + val_pred_lgbm * 0.19 + val_pred_cat * 0.8\n",
    "    rmse_ens.append(mean_squared_error(val_y, ens_pred, squared = False))\n",
    " \n",
    "    print(f\"fold : {i + 1} RMSE of Ensemble : {rmse_ens[i]}\")"
   ]
  },
  {
   "cell_type": "code",
   "execution_count": 83,
   "metadata": {
    "colab": {
     "base_uri": "https://localhost:8080/"
    },
    "executionInfo": {
     "elapsed": 326,
     "status": "ok",
     "timestamp": 1678171775816,
     "user": {
      "displayName": "기세현",
      "userId": "06743460080794396829"
     },
     "user_tz": -540
    },
    "id": "Alq8ummU1UwC",
    "outputId": "f25f08ea-5cd1-4c01-e51a-ff77ccfcb86b"
   },
   "outputs": [
    {
     "name": "stdout",
     "output_type": "stream",
     "text": [
      "\n",
      "12.043611527687109\n"
     ]
    }
   ],
   "source": [
    "print(f'\\n{np.mean(rmse_ens)}')"
   ]
  },
  {
   "cell_type": "markdown",
   "metadata": {
    "id": "6_tfVb6_yFSr"
   },
   "source": [
    "best = 12.043611527687109"
   ]
  },
  {
   "cell_type": "code",
   "execution_count": 89,
   "metadata": {
    "executionInfo": {
     "elapsed": 4,
     "status": "ok",
     "timestamp": 1678171808754,
     "user": {
      "displayName": "기세현",
      "userId": "06743460080794396829"
     },
     "user_tz": -540
    },
    "id": "mQ9yv0ttgUYK"
   },
   "outputs": [],
   "source": [
    "submission = pd.read_csv('sample_submission.csv')"
   ]
  },
  {
   "cell_type": "code",
   "execution_count": 90,
   "metadata": {
    "executionInfo": {
     "elapsed": 3,
     "status": "ok",
     "timestamp": 1678171808754,
     "user": {
      "displayName": "기세현",
      "userId": "06743460080794396829"
     },
     "user_tz": -540
    },
    "id": "8QYidb24gXS_"
   },
   "outputs": [],
   "source": [
    "submission['Strength'] = pred_2 * 0.8 + pred_1 * 0.01 + pred_3 * 0.19"
   ]
  },
  {
   "cell_type": "code",
   "execution_count": 91,
   "metadata": {
    "executionInfo": {
     "elapsed": 2,
     "status": "ok",
     "timestamp": 1678171808754,
     "user": {
      "displayName": "기세현",
      "userId": "06743460080794396829"
     },
     "user_tz": -540
    },
    "id": "rVVwU52ogY-1"
   },
   "outputs": [],
   "source": [
    "submission.to_csv(\"ensemble.csv\", index = False)"
   ]
  },
  {
   "cell_type": "markdown",
   "metadata": {
    "id": "sRX8DcnHskdY"
   },
   "source": [
    "***"
   ]
  },
  {
   "cell_type": "code",
   "execution_count": 71,
   "metadata": {
    "executionInfo": {
     "elapsed": 133806,
     "status": "ok",
     "timestamp": 1678171555207,
     "user": {
      "displayName": "기세현",
      "userId": "06743460080794396829"
     },
     "user_tz": -540
    },
    "id": "POBJ4rjUsML1"
   },
   "outputs": [],
   "source": [
    "pred_xgb=[]  \n",
    "pred_cat=[]\n",
    "pred_lgbm = []\n",
    "\n",
    "for i, (tr_idx, val_idx) in enumerate(kf.split(X, y)) :\n",
    "    tr_x, tr_y = X.iloc[tr_idx], y.iloc[tr_idx]\n",
    "    val_x, val_y = X.iloc[val_idx], y.iloc[val_idx]\n",
    "    \n",
    "    # XGBoost\n",
    "    model_xgb = XGBRegressor(random_state = 42, max_depth = 4, learning_rate = 0.02, n_estimators = 10000, objective = 'reg:squarederror')\n",
    "    model_xgb.fit(tr_x, tr_y, eval_set = [(val_x, val_y)], early_stopping_rounds = 1000, verbose = False)\n",
    "    val_pred_xgb = model_xgb.predict(val_x)\n",
    "\n",
    "    # CatBoost\n",
    "    model_cat = CatBoostRegressor(random_state = 42, max_depth = 4, learning_rate = 0.02, n_estimators = 10000, use_best_model = True, eval_metric = 'RMSE')\n",
    "    model_cat.fit(tr_x, tr_y, eval_set = [(val_x, val_y)], early_stopping_rounds = 1000, verbose = False) \n",
    "    val_pred_cat = model_cat.predict(val_x)\n",
    "    \n",
    "    # LGBM\n",
    "    model_lgbm = LGBMRegressor(random_state = 42, max_depth = 5, learning_rate = 0.02, n_estimators = 10000, objective = 'rmse')\n",
    "    model_lgbm.fit(tr_x, tr_y, eval_set = [(val_x, val_y)], early_stopping_rounds = 1000, verbose = 0)\n",
    "    val_pred_lgbm = model_lgbm.predict(val_x)\n",
    "    \n",
    "    pred_xgb.append(val_pred_xgb)\n",
    "    pred_cat.append(val_pred_cat)\n",
    "    pred_lgbm.append(val_pred_lgbm)"
   ]
  },
  {
   "cell_type": "code",
   "execution_count": 73,
   "metadata": {
    "colab": {
     "base_uri": "https://localhost:8080/"
    },
    "executionInfo": {
     "elapsed": 522,
     "status": "ok",
     "timestamp": 1678171568114,
     "user": {
      "displayName": "기세현",
      "userId": "06743460080794396829"
     },
     "user_tz": -540
    },
    "id": "VmVZBxJQsjMV",
    "outputId": "266721cf-f9d7-4841-84cb-88a959458edf"
   },
   "outputs": [
    {
     "name": "stdout",
     "output_type": "stream",
     "text": [
      "12.046895611857169 12.045387372625246 12.044251724220057 12.043611527687109\n"
     ]
    }
   ],
   "source": [
    "ens1_rmse = []\n",
    "ens2_rmse = []\n",
    "ens3_rmse = []\n",
    "ens4_rmse = []\n",
    "\n",
    "for i in range(10) :\n",
    "\n",
    "  ens1 = pred_xgb[i] * 0.15 + pred_lgbm[i] * 0.05 + pred_cat[i] * 0.8\n",
    "  ens2 = pred_xgb[i] * 0.1 + pred_lgbm[i] * 0.1 + pred_cat[i] * 0.8\n",
    "  ens3 = pred_xgb[i] * 0.05 + pred_lgbm[i] * 0.15 + pred_cat[i] * 0.8\n",
    "  ens4 = pred_xgb[i] * 0.01 + pred_lgbm[i] * 0.19 + pred_cat[i] * 0.8\n",
    "\n",
    "  rmse1 = mean_squared_error(val_ys[i], ens1, squared = False)\n",
    "  rmse2 = mean_squared_error(val_ys[i], ens2, squared = False)\n",
    "  rmse3 = mean_squared_error(val_ys[i], ens3, squared = False)\n",
    "  rmse4 = mean_squared_error(val_ys[i], ens4, squared = False)\n",
    "\n",
    "  ens1_rmse.append(rmse1)\n",
    "  ens2_rmse.append(rmse2)\n",
    "  ens3_rmse.append(rmse3)\n",
    "  ens4_rmse.append(rmse4)\n",
    "print(np.mean(ens1_rmse), np.mean(ens2_rmse), np.mean(ens3_rmse), np.mean(ens4_rmse))"
   ]
  }
 ],
 "metadata": {
  "colab": {
   "authorship_tag": "ABX9TyPstkwimxCNoYzn6HBpMemo",
   "provenance": []
  },
  "kernelspec": {
   "display_name": "Python 3",
   "language": "python",
   "name": "python3"
  },
  "language_info": {
   "codemirror_mode": {
    "name": "ipython",
    "version": 3
   },
   "file_extension": ".py",
   "mimetype": "text/x-python",
   "name": "python",
   "nbconvert_exporter": "python",
   "pygments_lexer": "ipython3",
   "version": "3.8.8"
  }
 },
 "nbformat": 4,
 "nbformat_minor": 1
}
