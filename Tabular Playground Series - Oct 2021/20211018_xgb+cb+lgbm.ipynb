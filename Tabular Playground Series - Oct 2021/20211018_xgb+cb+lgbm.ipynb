{
 "cells": [
  {
   "cell_type": "code",
   "execution_count": 1,
   "id": "604223c3",
   "metadata": {},
   "outputs": [],
   "source": [
    "import pandas as pd\n",
    "import numpy as np\n",
    "import gc\n",
    "import warnings\n",
    "warnings.filterwarnings('ignore')"
   ]
  },
  {
   "cell_type": "code",
   "execution_count": 2,
   "id": "70e66707",
   "metadata": {},
   "outputs": [],
   "source": [
    "def reduce_memory_usage(df, verbose=True):\n",
    "    numerics = [\"int8\", \"int16\", \"int32\", \"int64\", \"float16\", \"float32\", \"float64\"]\n",
    "    start_mem = df.memory_usage().sum() / 1024 ** 2\n",
    "    for col in df.columns:\n",
    "        col_type = df[col].dtypes\n",
    "        if col_type in numerics:\n",
    "            c_min = df[col].min()\n",
    "            c_max = df[col].max()\n",
    "            if str(col_type)[:3] == \"int\":\n",
    "                if c_min > np.iinfo(np.int8).min and c_max < np.iinfo(np.int8).max:\n",
    "                    df[col] = df[col].astype(np.int8)\n",
    "                elif c_min > np.iinfo(np.int16).min and c_max < np.iinfo(np.int16).max:\n",
    "                    df[col] = df[col].astype(np.int16)\n",
    "                elif c_min > np.iinfo(np.int32).min and c_max < np.iinfo(np.int32).max:\n",
    "                    df[col] = df[col].astype(np.int32)\n",
    "                elif c_min > np.iinfo(np.int64).min and c_max < np.iinfo(np.int64).max:\n",
    "                    df[col] = df[col].astype(np.int64)\n",
    "            else:\n",
    "                if (\n",
    "                    c_min > np.finfo(np.float16).min\n",
    "                    and c_max < np.finfo(np.float16).max\n",
    "                ):\n",
    "                    df[col] = df[col].astype(np.float16)\n",
    "                elif (\n",
    "                    c_min > np.finfo(np.float32).min\n",
    "                    and c_max < np.finfo(np.float32).max\n",
    "                ):\n",
    "                    df[col] = df[col].astype(np.float32)\n",
    "                else:\n",
    "                    df[col] = df[col].astype(np.float64)\n",
    "    end_mem = df.memory_usage().sum() / 1024 ** 2\n",
    "    if verbose:\n",
    "        print(\n",
    "            \"Mem. usage decreased to {:.2f} Mb ({:.1f}% reduction)\".format(\n",
    "                end_mem, 100 * (start_mem - end_mem) / start_mem\n",
    "            )\n",
    "        )\n",
    "    return df"
   ]
  },
  {
   "cell_type": "code",
   "execution_count": 3,
   "id": "ada4dbe4",
   "metadata": {},
   "outputs": [],
   "source": [
    "train = pd.read_csv(\"train.csv\")\n",
    "test = pd.read_csv(\"test.csv\")"
   ]
  },
  {
   "cell_type": "code",
   "execution_count": 4,
   "id": "931fd237",
   "metadata": {
    "scrolled": false
   },
   "outputs": [
    {
     "name": "stdout",
     "output_type": "stream",
     "text": [
      "Mem. usage decreased to 505.45 Mb (76.9% reduction)\n",
      "Mem. usage decreased to 252.25 Mb (76.9% reduction)\n"
     ]
    }
   ],
   "source": [
    "train = reduce_memory_usage(train)\n",
    "test = reduce_memory_usage(test)"
   ]
  },
  {
   "cell_type": "code",
   "execution_count": 5,
   "id": "29a14ec1",
   "metadata": {},
   "outputs": [],
   "source": [
    "train.to_csv(\"train.csv\", index = False)\n",
    "test.to_csv(\"test.csv\", index = False)"
   ]
  },
  {
   "cell_type": "code",
   "execution_count": 5,
   "id": "fdebe65f",
   "metadata": {
    "scrolled": true
   },
   "outputs": [],
   "source": [
    "from catboost import CatBoostClassifier\n",
    "from lightgbm import LGBMClassifier\n",
    "from xgboost import XGBClassifier\n",
    "from ngboost import NGBClassifier\n",
    "from sklearn.tree import DecisionTreeClassifier\n",
    "from ngboost.learners import default_tree_learner\n",
    "from ngboost.distns import k_categorical\n",
    "from ngboost.scores import MLE\n",
    "\n",
    "from sklearn.model_selection import StratifiedKFold\n",
    "from sklearn.metrics import roc_auc_score\n",
    "from sklearn.preprocessing import StandardScaler, MinMaxScaler"
   ]
  },
  {
   "cell_type": "code",
   "execution_count": 6,
   "id": "479443ce",
   "metadata": {},
   "outputs": [],
   "source": [
    "X = train.iloc[:, 1:-1]\n",
    "y = train.target"
   ]
  },
  {
   "cell_type": "code",
   "execution_count": 7,
   "id": "91d63854",
   "metadata": {},
   "outputs": [],
   "source": [
    "target = test.iloc[:, 1:]"
   ]
  },
  {
   "cell_type": "code",
   "execution_count": 8,
   "id": "b72b9c92",
   "metadata": {},
   "outputs": [],
   "source": [
    "del train\n",
    "del test"
   ]
  },
  {
   "cell_type": "code",
   "execution_count": 9,
   "id": "d9bec78c",
   "metadata": {},
   "outputs": [],
   "source": [
    "X['std'] = X.std(axis=1)\n",
    "\n",
    "target['std'] = target.std(axis=1)"
   ]
  },
  {
   "cell_type": "code",
   "execution_count": 10,
   "id": "8cc8f05e",
   "metadata": {},
   "outputs": [],
   "source": [
    "skf = StratifiedKFold(n_splits = 10, random_state = 2021, shuffle = True)"
   ]
  },
  {
   "cell_type": "code",
   "execution_count": 11,
   "id": "335f9653",
   "metadata": {},
   "outputs": [],
   "source": [
    "cb = CatBoostClassifier(iterations = 10000, learning_rate = .03, random_state = 42)"
   ]
  },
  {
   "cell_type": "code",
   "execution_count": 12,
   "id": "86555ce7",
   "metadata": {
    "scrolled": true
   },
   "outputs": [
    {
     "name": "stdout",
     "output_type": "stream",
     "text": [
      "0:\tlearn: 0.6808484\ttest: 0.6808337\ttest1: 0.6805923\tbest: 0.6805923 (0)\ttotal: 211ms\tremaining: 35m 7s\n",
      "1000:\tlearn: 0.4677988\ttest: 0.4678248\ttest1: 0.4657574\tbest: 0.4657574 (1000)\ttotal: 2m\tremaining: 17m 59s\n",
      "2000:\tlearn: 0.4591064\ttest: 0.4591326\ttest1: 0.4623964\tbest: 0.4623964 (2000)\ttotal: 3m 54s\tremaining: 15m 36s\n",
      "3000:\tlearn: 0.4526649\ttest: 0.4526911\ttest1: 0.4615831\tbest: 0.4615831 (3000)\ttotal: 5m 45s\tremaining: 13m 26s\n",
      "4000:\tlearn: 0.4468426\ttest: 0.4468691\ttest1: 0.4612089\tbest: 0.4611974 (3955)\ttotal: 7m 36s\tremaining: 11m 25s\n",
      "5000:\tlearn: 0.4413650\ttest: 0.4413915\ttest1: 0.4610782\tbest: 0.4610678 (4908)\ttotal: 9m 25s\tremaining: 9m 24s\n",
      "6000:\tlearn: 0.4360724\ttest: 0.4360988\ttest1: 0.4610146\tbest: 0.4609898 (5639)\ttotal: 11m 14s\tremaining: 7m 29s\n",
      "Stopped by overfitting detector  (500 iterations wait)\n",
      "\n",
      "bestTest = 0.4609898391\n",
      "bestIteration = 5639\n",
      "\n",
      "Shrink model to first 5640 iterations.\n",
      "1 Fold roc_auc_score = 0.8605092756331083\n",
      "0:\tlearn: 0.6808018\ttest: 0.6808098\ttest1: 0.6808053\tbest: 0.6808053 (0)\ttotal: 149ms\tremaining: 24m 45s\n",
      "1000:\tlearn: 0.4672790\ttest: 0.4673047\ttest1: 0.4708679\tbest: 0.4708679 (1000)\ttotal: 1m 59s\tremaining: 17m 57s\n",
      "2000:\tlearn: 0.4586004\ttest: 0.4586268\ttest1: 0.4676339\tbest: 0.4676339 (2000)\ttotal: 3m 54s\tremaining: 15m 36s\n",
      "3000:\tlearn: 0.4521676\ttest: 0.4521942\ttest1: 0.4667854\tbest: 0.4667828 (2994)\ttotal: 5m 45s\tremaining: 13m 25s\n",
      "4000:\tlearn: 0.4463465\ttest: 0.4463734\ttest1: 0.4665165\tbest: 0.4665053 (3972)\ttotal: 7m 35s\tremaining: 11m 22s\n",
      "5000:\tlearn: 0.4408430\ttest: 0.4408697\ttest1: 0.4663198\tbest: 0.4663134 (4974)\ttotal: 9m 24s\tremaining: 9m 24s\n",
      "6000:\tlearn: 0.4355475\ttest: 0.4355746\ttest1: 0.4662343\tbest: 0.4662194 (5898)\ttotal: 11m 14s\tremaining: 7m 29s\n",
      "Stopped by overfitting detector  (500 iterations wait)\n",
      "\n",
      "bestTest = 0.466219401\n",
      "bestIteration = 5898\n",
      "\n",
      "Shrink model to first 5899 iterations.\n",
      "2 Fold roc_auc_score = 0.8564929409758204\n",
      "0:\tlearn: 0.6807650\ttest: 0.6807756\ttest1: 0.6808485\tbest: 0.6808485 (0)\ttotal: 149ms\tremaining: 24m 48s\n",
      "1000:\tlearn: 0.4669840\ttest: 0.4670101\ttest1: 0.4738380\tbest: 0.4738380 (1000)\ttotal: 2m\tremaining: 18m 6s\n",
      "2000:\tlearn: 0.4583065\ttest: 0.4583333\ttest1: 0.4703369\tbest: 0.4703369 (1999)\ttotal: 3m 55s\tremaining: 15m 40s\n",
      "3000:\tlearn: 0.4518495\ttest: 0.4518763\ttest1: 0.4693575\tbest: 0.4693575 (3000)\ttotal: 5m 47s\tremaining: 13m 30s\n",
      "4000:\tlearn: 0.4460570\ttest: 0.4460837\ttest1: 0.4689837\tbest: 0.4689803 (3995)\ttotal: 7m 37s\tremaining: 11m 25s\n",
      "5000:\tlearn: 0.4405588\ttest: 0.4405856\ttest1: 0.4689326\tbest: 0.4689322 (4949)\ttotal: 9m 27s\tremaining: 9m 27s\n",
      "6000:\tlearn: 0.4352330\ttest: 0.4352598\ttest1: 0.4688769\tbest: 0.4688316 (5681)\ttotal: 11m 23s\tremaining: 7m 35s\n",
      "Stopped by overfitting detector  (500 iterations wait)\n",
      "\n",
      "bestTest = 0.4688316312\n",
      "bestIteration = 5681\n",
      "\n",
      "Shrink model to first 5682 iterations.\n",
      "3 Fold roc_auc_score = 0.8546259119827259\n",
      "0:\tlearn: 0.6807814\ttest: 0.6807877\ttest1: 0.6808708\tbest: 0.6808708 (0)\ttotal: 152ms\tremaining: 25m 24s\n",
      "1000:\tlearn: 0.4671460\ttest: 0.4671718\ttest1: 0.4717193\tbest: 0.4717193 (1000)\ttotal: 2m\tremaining: 18m 6s\n",
      "2000:\tlearn: 0.4584785\ttest: 0.4585044\ttest1: 0.4681839\tbest: 0.4681839 (2000)\ttotal: 3m 55s\tremaining: 15m 40s\n",
      "3000:\tlearn: 0.4520286\ttest: 0.4520551\ttest1: 0.4673309\tbest: 0.4673293 (2996)\ttotal: 5m 47s\tremaining: 13m 30s\n",
      "4000:\tlearn: 0.4462173\ttest: 0.4462438\ttest1: 0.4670505\tbest: 0.4670400 (3893)\ttotal: 7m 42s\tremaining: 11m 33s\n",
      "5000:\tlearn: 0.4407132\ttest: 0.4407404\ttest1: 0.4669425\tbest: 0.4669276 (4902)\ttotal: 9m 32s\tremaining: 9m 32s\n",
      "Stopped by overfitting detector  (500 iterations wait)\n",
      "\n",
      "bestTest = 0.4669116677\n",
      "bestIteration = 5413\n",
      "\n",
      "Shrink model to first 5414 iterations.\n",
      "4 Fold roc_auc_score = 0.8561273866247421\n",
      "0:\tlearn: 0.6808827\ttest: 0.6808654\ttest1: 0.6809153\tbest: 0.6809153 (0)\ttotal: 154ms\tremaining: 25m 34s\n",
      "1000:\tlearn: 0.4671095\ttest: 0.4671355\ttest1: 0.4718848\tbest: 0.4718848 (1000)\ttotal: 2m\tremaining: 18m 5s\n",
      "2000:\tlearn: 0.4584301\ttest: 0.4584562\ttest1: 0.4683444\tbest: 0.4683444 (2000)\ttotal: 3m 55s\tremaining: 15m 41s\n",
      "3000:\tlearn: 0.4519691\ttest: 0.4519955\ttest1: 0.4675357\tbest: 0.4675357 (3000)\ttotal: 5m 47s\tremaining: 13m 30s\n",
      "4000:\tlearn: 0.4461827\ttest: 0.4462092\ttest1: 0.4672213\tbest: 0.4672185 (3965)\ttotal: 7m 38s\tremaining: 11m 27s\n",
      "5000:\tlearn: 0.4407120\ttest: 0.4407388\ttest1: 0.4671583\tbest: 0.4671068 (4737)\ttotal: 9m 29s\tremaining: 9m 28s\n",
      "Stopped by overfitting detector  (500 iterations wait)\n",
      "\n",
      "bestTest = 0.4671067716\n",
      "bestIteration = 4737\n",
      "\n",
      "Shrink model to first 4738 iterations.\n",
      "5 Fold roc_auc_score = 0.8558771571844217\n",
      "0:\tlearn: 0.6808458\ttest: 0.6808129\ttest1: 0.6807526\tbest: 0.6807526 (0)\ttotal: 155ms\tremaining: 25m 52s\n",
      "1000:\tlearn: 0.4674967\ttest: 0.4675221\ttest1: 0.4687589\tbest: 0.4687589 (1000)\ttotal: 2m 6s\tremaining: 18m 58s\n",
      "2000:\tlearn: 0.4588405\ttest: 0.4588667\ttest1: 0.4650382\tbest: 0.4650373 (1998)\ttotal: 4m 16s\tremaining: 17m 5s\n",
      "3000:\tlearn: 0.4524048\ttest: 0.4524317\ttest1: 0.4640496\tbest: 0.4640465 (2980)\ttotal: 7m 22s\tremaining: 17m 12s\n",
      "4000:\tlearn: 0.4466073\ttest: 0.4466340\ttest1: 0.4637031\tbest: 0.4637016 (3998)\ttotal: 9m 56s\tremaining: 14m 54s\n",
      "5000:\tlearn: 0.4410883\ttest: 0.4411148\ttest1: 0.4635477\tbest: 0.4635465 (4999)\ttotal: 11m 46s\tremaining: 11m 46s\n",
      "6000:\tlearn: 0.4358106\ttest: 0.4358376\ttest1: 0.4634242\tbest: 0.4634242 (6000)\ttotal: 13m 34s\tremaining: 9m 2s\n",
      "Stopped by overfitting detector  (500 iterations wait)\n",
      "\n",
      "bestTest = 0.4633932238\n",
      "bestIteration = 6080\n",
      "\n",
      "Shrink model to first 6081 iterations.\n",
      "6 Fold roc_auc_score = 0.85870389538151\n",
      "0:\tlearn: 0.6808059\ttest: 0.6807986\ttest1: 0.6808929\tbest: 0.6808929 (0)\ttotal: 149ms\tremaining: 24m 50s\n",
      "1000:\tlearn: 0.4670912\ttest: 0.4671168\ttest1: 0.4720231\tbest: 0.4720231 (1000)\ttotal: 1m 59s\tremaining: 17m 56s\n",
      "2000:\tlearn: 0.4583580\ttest: 0.4583847\ttest1: 0.4689445\tbest: 0.4689445 (2000)\ttotal: 4m 1s\tremaining: 16m 7s\n",
      "3000:\tlearn: 0.4518996\ttest: 0.4519260\ttest1: 0.4683657\tbest: 0.4683631 (2992)\ttotal: 6m 6s\tremaining: 14m 14s\n",
      "4000:\tlearn: 0.4460819\ttest: 0.4461086\ttest1: 0.4682203\tbest: 0.4682079 (3807)\ttotal: 8m 16s\tremaining: 12m 25s\n",
      "5000:\tlearn: 0.4405884\ttest: 0.4406154\ttest1: 0.4681448\tbest: 0.4681411 (4886)\ttotal: 11m 13s\tremaining: 11m 13s\n",
      "Stopped by overfitting detector  (500 iterations wait)\n",
      "\n",
      "bestTest = 0.4681330876\n",
      "bestIteration = 5089\n",
      "\n",
      "Shrink model to first 5090 iterations.\n",
      "7 Fold roc_auc_score = 0.8553834739214096\n",
      "0:\tlearn: 0.6808199\ttest: 0.6807927\ttest1: 0.6808362\tbest: 0.6808362 (0)\ttotal: 149ms\tremaining: 24m 54s\n",
      "1000:\tlearn: 0.4671129\ttest: 0.4671385\ttest1: 0.4717604\tbest: 0.4717604 (1000)\ttotal: 2m 49s\tremaining: 25m 27s\n",
      "2000:\tlearn: 0.4584518\ttest: 0.4584779\ttest1: 0.4684368\tbest: 0.4684368 (2000)\ttotal: 6m 2s\tremaining: 24m 8s\n",
      "3000:\tlearn: 0.4520110\ttest: 0.4520376\ttest1: 0.4675805\tbest: 0.4675805 (3000)\ttotal: 8m 59s\tremaining: 20m 57s\n",
      "4000:\tlearn: 0.4462109\ttest: 0.4462372\ttest1: 0.4672866\tbest: 0.4672765 (3936)\ttotal: 11m 54s\tremaining: 17m 51s\n",
      "Stopped by overfitting detector  (500 iterations wait)\n",
      "\n",
      "bestTest = 0.467202984\n",
      "bestIteration = 4396\n",
      "\n",
      "Shrink model to first 4397 iterations.\n",
      "8 Fold roc_auc_score = 0.8560295385168226\n",
      "0:\tlearn: 0.6809199\ttest: 0.6808839\ttest1: 0.6808833\tbest: 0.6808833 (0)\ttotal: 166ms\tremaining: 27m 44s\n",
      "1000:\tlearn: 0.4671703\ttest: 0.4671961\ttest1: 0.4716189\tbest: 0.4716189 (1000)\ttotal: 3m 6s\tremaining: 27m 53s\n",
      "2000:\tlearn: 0.4584888\ttest: 0.4585153\ttest1: 0.4682531\tbest: 0.4682531 (2000)\ttotal: 6m 14s\tremaining: 24m 58s\n",
      "3000:\tlearn: 0.4520263\ttest: 0.4520528\ttest1: 0.4674132\tbest: 0.4674110 (2993)\ttotal: 8m 8s\tremaining: 18m 58s\n",
      "4000:\tlearn: 0.4462067\ttest: 0.4462334\ttest1: 0.4670397\tbest: 0.4670382 (3953)\ttotal: 9m 59s\tremaining: 14m 58s\n",
      "Stopped by overfitting detector  (500 iterations wait)\n",
      "\n",
      "bestTest = 0.4669934613\n",
      "bestIteration = 4499\n",
      "\n",
      "Shrink model to first 4500 iterations.\n",
      "9 Fold roc_auc_score = 0.8561961802703997\n",
      "0:\tlearn: 0.6809357\ttest: 0.6808925\ttest1: 0.6808732\tbest: 0.6808732 (0)\ttotal: 147ms\tremaining: 24m 26s\n",
      "1000:\tlearn: 0.4672411\ttest: 0.4672667\ttest1: 0.4703231\tbest: 0.4703231 (1000)\ttotal: 1m 58s\tremaining: 17m 47s\n",
      "2000:\tlearn: 0.4585563\ttest: 0.4585825\ttest1: 0.4670177\tbest: 0.4670177 (2000)\ttotal: 3m 51s\tremaining: 15m 26s\n",
      "3000:\tlearn: 0.4520928\ttest: 0.4521194\ttest1: 0.4661469\tbest: 0.4661469 (3000)\ttotal: 5m 44s\tremaining: 13m 23s\n"
     ]
    },
    {
     "name": "stdout",
     "output_type": "stream",
     "text": [
      "4000:\tlearn: 0.4462975\ttest: 0.4463240\ttest1: 0.4658964\tbest: 0.4658958 (3996)\ttotal: 7m 38s\tremaining: 11m 26s\n",
      "Stopped by overfitting detector  (500 iterations wait)\n",
      "\n",
      "bestTest = 0.4658450465\n",
      "bestIteration = 4413\n",
      "\n",
      "Shrink model to first 4414 iterations.\n",
      "10 Fold roc_auc_score = 0.8568038944304691\n"
     ]
    }
   ],
   "source": [
    "cb_pred = np.zeros((target.shape[0]))\n",
    "for i, idx in enumerate(zip(skf.split(X, y))) :\n",
    "    tr_x, tr_y = X.iloc[idx[0][0]], y.iloc[idx[0][0]]\n",
    "    val_x, val_y = X.iloc[idx[0][1]], y.iloc[idx[0][1]]\n",
    "    \n",
    "    cb.fit(tr_x, tr_y, eval_set = [(tr_x, tr_y), (val_x, val_y)], verbose = 1000, early_stopping_rounds = 500)\n",
    "    \n",
    "    val_pred = cb.predict_proba(val_x)[:, 1]\n",
    "    \n",
    "    score = roc_auc_score(val_y, val_pred)\n",
    "    \n",
    "    print(f'{i + 1} Fold roc_auc_score = {score}\\n')\n",
    "    \n",
    "    fold_pred = cb.predict_proba(target)[:, 1]\n",
    "    cb_pred += (fold_pred / 10)"
   ]
  },
  {
   "cell_type": "code",
   "execution_count": 18,
   "id": "81d86b91",
   "metadata": {},
   "outputs": [],
   "source": [
    "params = {\n",
    "    'max_depth': 6,\n",
    "    'subsample': 0.75,\n",
    "    'colsample_bytree': 0.25,\n",
    "    'colsample_bylevel': 0.6000000000000001,\n",
    "    'min_child_weight': 56.41980735551558,\n",
    "    'reg_lambda': 75.56651890088857,\n",
    "    'reg_alpha': 0.11766857055687065,\n",
    "    'gamma': 0.6407823221122686,\n",
    "    'booster': 'gbtree',\n",
    "    'eval_metric': 'auc',\n",
    "    'use_label_encoder': False\n",
    "    }"
   ]
  },
  {
   "cell_type": "code",
   "execution_count": 20,
   "id": "344c94e7",
   "metadata": {},
   "outputs": [],
   "source": [
    "xgb = XGBClassifier(random_state = 42, n_estimators = 5000, learning_rate = .03, **params)"
   ]
  },
  {
   "cell_type": "code",
   "execution_count": 21,
   "id": "31221403",
   "metadata": {
    "scrolled": true
   },
   "outputs": [
    {
     "name": "stdout",
     "output_type": "stream",
     "text": [
      "[0]\tvalidation_0-auc:0.78977\tvalidation_1-auc:0.78745\n",
      "[1000]\tvalidation_0-auc:0.86430\tvalidation_1-auc:0.85508\n",
      "[2000]\tvalidation_0-auc:0.87398\tvalidation_1-auc:0.85634\n",
      "[2231]\tvalidation_0-auc:0.87560\tvalidation_1-auc:0.85632\n",
      "1 Fold roc_auc_score = 0.8563289464183201\n",
      "[0]\tvalidation_0-auc:0.78939\tvalidation_1-auc:0.79071\n",
      "[1000]\tvalidation_0-auc:0.86416\tvalidation_1-auc:0.85592\n",
      "[2000]\tvalidation_0-auc:0.87385\tvalidation_1-auc:0.85720\n",
      "[2647]\tvalidation_0-auc:0.87818\tvalidation_1-auc:0.85720\n",
      "2 Fold roc_auc_score = 0.8572132578676128\n",
      "[0]\tvalidation_0-auc:0.78985\tvalidation_1-auc:0.78685\n",
      "[1000]\tvalidation_0-auc:0.86436\tvalidation_1-auc:0.85437\n",
      "[2000]\tvalidation_0-auc:0.87402\tvalidation_1-auc:0.85566\n",
      "[2748]\tvalidation_0-auc:0.87900\tvalidation_1-auc:0.85578\n",
      "3 Fold roc_auc_score = 0.8557866762975239\n",
      "[0]\tvalidation_0-auc:0.78922\tvalidation_1-auc:0.79030\n",
      "[1000]\tvalidation_0-auc:0.86408\tvalidation_1-auc:0.85701\n",
      "[2000]\tvalidation_0-auc:0.87379\tvalidation_1-auc:0.85800\n",
      "[2610]\tvalidation_0-auc:0.87794\tvalidation_1-auc:0.85799\n",
      "4 Fold roc_auc_score = 0.8580222258445457\n",
      "[0]\tvalidation_0-auc:0.78970\tvalidation_1-auc:0.78847\n",
      "[1000]\tvalidation_0-auc:0.86425\tvalidation_1-auc:0.85515\n",
      "[2000]\tvalidation_0-auc:0.87389\tvalidation_1-auc:0.85612\n",
      "[2768]\tvalidation_0-auc:0.87906\tvalidation_1-auc:0.85615\n",
      "5 Fold roc_auc_score = 0.8561705410661877\n",
      "[0]\tvalidation_0-auc:0.78963\tvalidation_1-auc:0.78960\n",
      "[1000]\tvalidation_0-auc:0.86423\tvalidation_1-auc:0.85551\n",
      "[2000]\tvalidation_0-auc:0.87388\tvalidation_1-auc:0.85660\n",
      "[2019]\tvalidation_0-auc:0.87402\tvalidation_1-auc:0.85660\n",
      "6 Fold roc_auc_score = 0.8565820598260263\n",
      "[0]\tvalidation_0-auc:0.78955\tvalidation_1-auc:0.78875\n",
      "[1000]\tvalidation_0-auc:0.86409\tvalidation_1-auc:0.85764\n",
      "[2000]\tvalidation_0-auc:0.87377\tvalidation_1-auc:0.85855\n",
      "[2343]\tvalidation_0-auc:0.87618\tvalidation_1-auc:0.85853\n",
      "7 Fold roc_auc_score = 0.8585243582160484\n",
      "[0]\tvalidation_0-auc:0.78950\tvalidation_1-auc:0.78973\n",
      "[1000]\tvalidation_0-auc:0.86411\tvalidation_1-auc:0.85660\n",
      "[2000]\tvalidation_0-auc:0.87380\tvalidation_1-auc:0.85766\n",
      "[2323]\tvalidation_0-auc:0.87610\tvalidation_1-auc:0.85765\n",
      "8 Fold roc_auc_score = 0.8576870396443756\n",
      "[0]\tvalidation_0-auc:0.78927\tvalidation_1-auc:0.79077\n",
      "[1000]\tvalidation_0-auc:0.86408\tvalidation_1-auc:0.85738\n",
      "[2000]\tvalidation_0-auc:0.87384\tvalidation_1-auc:0.85830\n",
      "[2222]\tvalidation_0-auc:0.87545\tvalidation_1-auc:0.85828\n",
      "9 Fold roc_auc_score = 0.8582955870052129\n",
      "[0]\tvalidation_0-auc:0.78951\tvalidation_1-auc:0.78793\n",
      "[1000]\tvalidation_0-auc:0.86432\tvalidation_1-auc:0.85485\n",
      "[2000]\tvalidation_0-auc:0.87394\tvalidation_1-auc:0.85599\n",
      "[2436]\tvalidation_0-auc:0.87697\tvalidation_1-auc:0.85600\n",
      "10 Fold roc_auc_score = 0.8560125027011225\n"
     ]
    }
   ],
   "source": [
    "xgb_pred = np.zeros((target.shape[0]))\n",
    "for i, idx in enumerate(zip(skf.split(X, y))) :\n",
    "    tr_x, tr_y = X.iloc[idx[0][0]], y.iloc[idx[0][0]]\n",
    "    val_x, val_y = X.iloc[idx[0][1]], y.iloc[idx[0][1]]\n",
    "    \n",
    "    xgb.fit(tr_x, tr_y, eval_set = [(tr_x, tr_y), (val_x, val_y)], verbose = 1000, early_stopping_rounds = 250)\n",
    "    \n",
    "    val_pred = xgb.predict_proba(np.float32(val_x))[:, 1]\n",
    "    \n",
    "    score = roc_auc_score(val_y, val_pred)\n",
    "    \n",
    "    print(f'{i + 1} Fold roc_auc_score = {score}\\n')\n",
    "    \n",
    "    fold_pred = xgb.predict_proba(np.float32(target))[:, 1]\n",
    "    xgb_pred += (fold_pred / 10)"
   ]
  },
  {
   "cell_type": "code",
   "execution_count": 11,
   "id": "d99ef0a8",
   "metadata": {},
   "outputs": [],
   "source": [
    "params = {'n_estimators': 7095,\n",
    "          'max_depth': 3,\n",
    "          'learning_rate': 0.03474539414923071,\n",
    "          'reg_alpha': 9.988737807614964,\n",
    "          'reg_lambda': 8.888715867016865,\n",
    "          'num_leaves': 109,\n",
    "          'min_data_per_group': 133,\n",
    "          'min_child_samples': 113,\n",
    "          'colsample_bytree': 0.19592122573428444,\n",
    "          'objective': 'binary',\n",
    "          'metric': 'auc',}"
   ]
  },
  {
   "cell_type": "code",
   "execution_count": 12,
   "id": "d53aa800",
   "metadata": {},
   "outputs": [],
   "source": [
    "lgbm = LGBMClassifier(random_state = 42, **params)"
   ]
  },
  {
   "cell_type": "code",
   "execution_count": 13,
   "id": "6d18c00b",
   "metadata": {
    "scrolled": true
   },
   "outputs": [
    {
     "name": "stdout",
     "output_type": "stream",
     "text": [
      "Training until validation scores don't improve for 500 rounds\n",
      "[1000]\ttraining's auc: 0.855152\tvalid_1's auc: 0.851902\n",
      "[2000]\ttraining's auc: 0.859754\tvalid_1's auc: 0.854986\n",
      "[3000]\ttraining's auc: 0.862113\tvalid_1's auc: 0.855906\n",
      "[4000]\ttraining's auc: 0.863785\tvalid_1's auc: 0.85622\n",
      "[5000]\ttraining's auc: 0.86518\tvalid_1's auc: 0.856286\n",
      "Early stopping, best iteration is:\n",
      "[5015]\ttraining's auc: 0.865201\tvalid_1's auc: 0.85629\n",
      "1 Fold roc_auc_score = 0.8562900727809859\n",
      "\n",
      "Training until validation scores don't improve for 500 rounds\n",
      "[1000]\ttraining's auc: 0.855038\tvalid_1's auc: 0.85302\n",
      "[2000]\ttraining's auc: 0.859671\tvalid_1's auc: 0.855812\n",
      "[3000]\ttraining's auc: 0.86201\tvalid_1's auc: 0.856662\n",
      "[4000]\ttraining's auc: 0.863676\tvalid_1's auc: 0.85697\n",
      "[5000]\ttraining's auc: 0.865078\tvalid_1's auc: 0.857072\n",
      "[6000]\ttraining's auc: 0.866344\tvalid_1's auc: 0.857068\n",
      "Early stopping, best iteration is:\n",
      "[5705]\ttraining's auc: 0.865975\tvalid_1's auc: 0.857081\n",
      "2 Fold roc_auc_score = 0.8570806239402313\n",
      "\n",
      "Training until validation scores don't improve for 500 rounds\n",
      "[1000]\ttraining's auc: 0.85526\tvalid_1's auc: 0.851327\n",
      "[2000]\ttraining's auc: 0.859874\tvalid_1's auc: 0.854433\n",
      "[3000]\ttraining's auc: 0.862204\tvalid_1's auc: 0.855445\n",
      "[4000]\ttraining's auc: 0.86387\tvalid_1's auc: 0.855772\n",
      "[5000]\ttraining's auc: 0.865252\tvalid_1's auc: 0.855918\n",
      "[6000]\ttraining's auc: 0.866523\tvalid_1's auc: 0.855928\n",
      "Early stopping, best iteration is:\n",
      "[5834]\ttraining's auc: 0.866321\tvalid_1's auc: 0.855948\n",
      "3 Fold roc_auc_score = 0.8559475808520567\n",
      "\n",
      "Training until validation scores don't improve for 500 rounds\n",
      "[1000]\ttraining's auc: 0.854948\tvalid_1's auc: 0.854096\n",
      "[2000]\ttraining's auc: 0.859579\tvalid_1's auc: 0.856939\n",
      "[3000]\ttraining's auc: 0.861936\tvalid_1's auc: 0.857714\n",
      "[4000]\ttraining's auc: 0.863603\tvalid_1's auc: 0.857937\n",
      "[5000]\ttraining's auc: 0.864995\tvalid_1's auc: 0.857991\n",
      "Early stopping, best iteration is:\n",
      "[4979]\ttraining's auc: 0.86497\tvalid_1's auc: 0.857995\n",
      "4 Fold roc_auc_score = 0.8579954264188075\n",
      "\n",
      "Training until validation scores don't improve for 500 rounds\n",
      "[1000]\ttraining's auc: 0.855157\tvalid_1's auc: 0.852227\n",
      "[2000]\ttraining's auc: 0.859792\tvalid_1's auc: 0.854985\n",
      "[3000]\ttraining's auc: 0.862149\tvalid_1's auc: 0.855711\n",
      "[4000]\ttraining's auc: 0.863837\tvalid_1's auc: 0.85595\n",
      "[5000]\ttraining's auc: 0.865239\tvalid_1's auc: 0.856002\n",
      "Early stopping, best iteration is:\n",
      "[4849]\ttraining's auc: 0.865036\tvalid_1's auc: 0.856019\n",
      "5 Fold roc_auc_score = 0.856018850520504\n",
      "\n",
      "Training until validation scores don't improve for 500 rounds\n",
      "[1000]\ttraining's auc: 0.855146\tvalid_1's auc: 0.85256\n",
      "[2000]\ttraining's auc: 0.859751\tvalid_1's auc: 0.855411\n",
      "[3000]\ttraining's auc: 0.862108\tvalid_1's auc: 0.856217\n",
      "[4000]\ttraining's auc: 0.863788\tvalid_1's auc: 0.856441\n",
      "[5000]\ttraining's auc: 0.865173\tvalid_1's auc: 0.856501\n",
      "[6000]\ttraining's auc: 0.866444\tvalid_1's auc: 0.856534\n",
      "Early stopping, best iteration is:\n",
      "[5625]\ttraining's auc: 0.865982\tvalid_1's auc: 0.856546\n",
      "6 Fold roc_auc_score = 0.8565455085923408\n",
      "\n",
      "Training until validation scores don't improve for 500 rounds\n",
      "[1000]\ttraining's auc: 0.854915\tvalid_1's auc: 0.854615\n",
      "[2000]\ttraining's auc: 0.859556\tvalid_1's auc: 0.857322\n",
      "[3000]\ttraining's auc: 0.861913\tvalid_1's auc: 0.858032\n",
      "[4000]\ttraining's auc: 0.863598\tvalid_1's auc: 0.858249\n",
      "[5000]\ttraining's auc: 0.864994\tvalid_1's auc: 0.858276\n",
      "Early stopping, best iteration is:\n",
      "[5116]\ttraining's auc: 0.86515\tvalid_1's auc: 0.858279\n",
      "7 Fold roc_auc_score = 0.8582793097902118\n",
      "\n",
      "Training until validation scores don't improve for 500 rounds\n",
      "[1000]\ttraining's auc: 0.855008\tvalid_1's auc: 0.853628\n",
      "[2000]\ttraining's auc: 0.859624\tvalid_1's auc: 0.856514\n",
      "[3000]\ttraining's auc: 0.861966\tvalid_1's auc: 0.857359\n",
      "[4000]\ttraining's auc: 0.863645\tvalid_1's auc: 0.857649\n",
      "[5000]\ttraining's auc: 0.865049\tvalid_1's auc: 0.857761\n",
      "Early stopping, best iteration is:\n",
      "[5340]\ttraining's auc: 0.865491\tvalid_1's auc: 0.857787\n",
      "8 Fold roc_auc_score = 0.857786973736475\n",
      "\n",
      "Training until validation scores don't improve for 500 rounds\n",
      "[1000]\ttraining's auc: 0.854951\tvalid_1's auc: 0.854387\n",
      "[2000]\ttraining's auc: 0.859537\tvalid_1's auc: 0.857164\n",
      "[3000]\ttraining's auc: 0.861898\tvalid_1's auc: 0.857945\n",
      "[4000]\ttraining's auc: 0.863586\tvalid_1's auc: 0.858177\n",
      "[5000]\ttraining's auc: 0.864996\tvalid_1's auc: 0.858207\n",
      "Early stopping, best iteration is:\n",
      "[4915]\ttraining's auc: 0.864879\tvalid_1's auc: 0.85821\n",
      "9 Fold roc_auc_score = 0.8582097485261042\n",
      "\n",
      "Training until validation scores don't improve for 500 rounds\n",
      "[1000]\ttraining's auc: 0.855197\tvalid_1's auc: 0.851748\n",
      "[2000]\ttraining's auc: 0.859802\tvalid_1's auc: 0.854561\n",
      "[3000]\ttraining's auc: 0.862141\tvalid_1's auc: 0.855436\n",
      "[4000]\ttraining's auc: 0.863827\tvalid_1's auc: 0.85573\n",
      "[5000]\ttraining's auc: 0.865231\tvalid_1's auc: 0.855799\n",
      "[6000]\ttraining's auc: 0.866498\tvalid_1's auc: 0.8558\n",
      "Early stopping, best iteration is:\n",
      "[5578]\ttraining's auc: 0.86597\tvalid_1's auc: 0.855812\n",
      "10 Fold roc_auc_score = 0.8558122867166035\n",
      "\n"
     ]
    }
   ],
   "source": [
    "lgbm_pred = np.zeros((target.shape[0]))\n",
    "for i, idx in enumerate(zip(skf.split(X, y))) :\n",
    "    tr_x, tr_y = X.iloc[idx[0][0]], y.iloc[idx[0][0]]\n",
    "    val_x, val_y = X.iloc[idx[0][1]], y.iloc[idx[0][1]]\n",
    "    \n",
    "    lgbm.fit(tr_x, tr_y, eval_set = [(tr_x, tr_y), (val_x, val_y)], verbose = 1000, early_stopping_rounds = 500)\n",
    "    \n",
    "    val_pred = lgbm.predict_proba(val_x)[:, 1]\n",
    "    \n",
    "    score = roc_auc_score(val_y, val_pred)\n",
    "    \n",
    "    print(f'{i + 1} Fold roc_auc_score = {score}\\n')\n",
    "    \n",
    "    fold_pred = lgbm.predict_proba(target)[:, 1]\n",
    "    lgbm_pred += (fold_pred / 10)"
   ]
  },
  {
   "cell_type": "code",
   "execution_count": 14,
   "id": "beaae187",
   "metadata": {},
   "outputs": [],
   "source": [
    "submission = pd.read_csv('sample_submission.csv')"
   ]
  },
  {
   "cell_type": "code",
   "execution_count": 15,
   "id": "6c192cec",
   "metadata": {},
   "outputs": [],
   "source": [
    "ens1 = pd.read_csv(\"1014_1st.csv\")"
   ]
  },
  {
   "cell_type": "code",
   "execution_count": 18,
   "id": "5a9be0f4",
   "metadata": {},
   "outputs": [],
   "source": [
    "submission['target'] = ens1['target'] * (2/3) + lgbm_pred * (1/3)"
   ]
  },
  {
   "cell_type": "code",
   "execution_count": 21,
   "id": "3c2585a2",
   "metadata": {},
   "outputs": [],
   "source": [
    "submission.to_csv(\"1018_2nd.csv\", index = False)"
   ]
  }
 ],
 "metadata": {
  "kernelspec": {
   "display_name": "Python 3",
   "language": "python",
   "name": "python3"
  },
  "language_info": {
   "codemirror_mode": {
    "name": "ipython",
    "version": 3
   },
   "file_extension": ".py",
   "mimetype": "text/x-python",
   "name": "python",
   "nbconvert_exporter": "python",
   "pygments_lexer": "ipython3",
   "version": "3.8.8"
  }
 },
 "nbformat": 4,
 "nbformat_minor": 5
}
